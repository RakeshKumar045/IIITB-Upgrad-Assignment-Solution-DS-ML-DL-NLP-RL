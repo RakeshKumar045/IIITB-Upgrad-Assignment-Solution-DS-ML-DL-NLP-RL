{
 "cells": [
  {
   "cell_type": "markdown",
   "metadata": {},
   "source": [
    "# Gesture Recognition\n",
    "In this group project, you are going to build a 3D Conv model that will be able to predict the 5 gestures correctly. Please import the following libraries to get started."
   ]
  },
  {
   "cell_type": "code",
   "execution_count": 1,
   "metadata": {},
   "outputs": [],
   "source": [
    "import numpy as np\n",
    "import pandas as pd\n",
    "import os\n",
    "# from scipy.misc import imread, imresize\n",
    "from skimage import io\n",
    "import datetime\n",
    "import os\n",
    "\n",
    "import cv2\n",
    "\n",
    "import matplotlib.pyplot as plt\n",
    "%matplotlib inline"
   ]
  },
  {
   "cell_type": "markdown",
   "metadata": {},
   "source": [
    "We set the random seed so that the results don't vary drastically."
   ]
  },
  {
   "cell_type": "code",
   "execution_count": 18,
   "metadata": {},
   "outputs": [],
   "source": [
    "np.random.seed(30)\n",
    "import random as rn\n",
    "rn.seed(30)\n",
    "from keras import backend as K\n",
    "import tensorflow as tf\n",
    "# tf.set_random_seed(30)"
   ]
  },
  {
   "cell_type": "markdown",
   "metadata": {},
   "source": [
    "In this block, you read the folder names for training and validation. You also set the `batch_size` here. Note that you set the batch size in such a way that you are able to use the GPU in full capacity. You keep increasing the batch size until the machine throws an error."
   ]
  },
  {
   "cell_type": "code",
   "execution_count": 19,
   "metadata": {},
   "outputs": [],
   "source": [
    "\n",
    "\n",
    "train_doc = np.random.permutation(open('Project_data/train.csv').readlines())\n",
    "val_doc = np.random.permutation(open('Project_data/val.csv').readlines())\n",
    "batch_size = 10 #experiment with the batch size"
   ]
  },
  {
   "cell_type": "code",
   "execution_count": 20,
   "metadata": {},
   "outputs": [],
   "source": [
    "rows = 120\n",
    "cols = 120"
   ]
  },
  {
   "cell_type": "code",
   "execution_count": 21,
   "metadata": {},
   "outputs": [],
   "source": [
    "# train_doc"
   ]
  },
  {
   "cell_type": "code",
   "execution_count": 22,
   "metadata": {
    "scrolled": true
   },
   "outputs": [
    {
     "data": {
      "text/html": [
       "<div>\n",
       "<style scoped>\n",
       "    .dataframe tbody tr th:only-of-type {\n",
       "        vertical-align: middle;\n",
       "    }\n",
       "\n",
       "    .dataframe tbody tr th {\n",
       "        vertical-align: top;\n",
       "    }\n",
       "\n",
       "    .dataframe thead th {\n",
       "        text-align: right;\n",
       "    }\n",
       "</style>\n",
       "<table border=\"1\" class=\"dataframe\">\n",
       "  <thead>\n",
       "    <tr style=\"text-align: right;\">\n",
       "      <th></th>\n",
       "      <th>Video_Name</th>\n",
       "      <th>Action_name</th>\n",
       "      <th>Action_Class</th>\n",
       "    </tr>\n",
       "  </thead>\n",
       "  <tbody>\n",
       "    <tr>\n",
       "      <th>0</th>\n",
       "      <td>WIN_20180926_16_54_08_Pro_Right_Swipe_new</td>\n",
       "      <td>Right_Swipe_new</td>\n",
       "      <td>1</td>\n",
       "    </tr>\n",
       "    <tr>\n",
       "      <th>1</th>\n",
       "      <td>WIN_20180925_18_02_58_Pro_Thumbs_Down_new</td>\n",
       "      <td>Thumbs_Down_new</td>\n",
       "      <td>3</td>\n",
       "    </tr>\n",
       "    <tr>\n",
       "      <th>2</th>\n",
       "      <td>WIN_20180925_17_33_08_Pro_Left_Swipe_new</td>\n",
       "      <td>Left_Swipe_new</td>\n",
       "      <td>0</td>\n",
       "    </tr>\n",
       "    <tr>\n",
       "      <th>3</th>\n",
       "      <td>WIN_20180925_17_51_17_Pro_Thumbs_Up_new</td>\n",
       "      <td>Thumbs_Up_new</td>\n",
       "      <td>4</td>\n",
       "    </tr>\n",
       "    <tr>\n",
       "      <th>4</th>\n",
       "      <td>WIN_20180926_17_17_35_Pro_Left_Swipe_new</td>\n",
       "      <td>Left_Swipe_new</td>\n",
       "      <td>0</td>\n",
       "    </tr>\n",
       "  </tbody>\n",
       "</table>\n",
       "</div>"
      ],
      "text/plain": [
       "                                  Video_Name      Action_name Action_Class\n",
       "0  WIN_20180926_16_54_08_Pro_Right_Swipe_new  Right_Swipe_new            1\n",
       "1  WIN_20180925_18_02_58_Pro_Thumbs_Down_new  Thumbs_Down_new            3\n",
       "2   WIN_20180925_17_33_08_Pro_Left_Swipe_new   Left_Swipe_new            0\n",
       "3    WIN_20180925_17_51_17_Pro_Thumbs_Up_new    Thumbs_Up_new            4\n",
       "4   WIN_20180926_17_17_35_Pro_Left_Swipe_new   Left_Swipe_new            0"
      ]
     },
     "execution_count": 22,
     "metadata": {},
     "output_type": "execute_result"
    }
   ],
   "source": [
    "train_df = pd.DataFrame()\n",
    "frame_name = []\n",
    "frame_target = []\n",
    "frame_class = []\n",
    "\n",
    "\n",
    "for train_data in train_doc:\n",
    "    data = train_data.split(\";\")\n",
    "    frame_name.append(data[0])\n",
    "    frame_target.append(data[1])\n",
    "    frame_class.append(data[2].strip())\n",
    "   \n",
    "train_df[\"Video_Name\"] = frame_name\n",
    "train_df[\"Action_name\"] = frame_target\n",
    "train_df[\"Action_Class\"] = frame_class\n",
    "\n",
    "train_df.head()"
   ]
  },
  {
   "cell_type": "code",
   "execution_count": 23,
   "metadata": {
    "scrolled": true
   },
   "outputs": [
    {
     "data": {
      "image/png": "[encoded data removed]",
      "text/plain": [
       "<Figure size 1296x360 with 2 Axes>"
      ]
     },
     "metadata": {},
     "output_type": "display_data"
    }
   ],
   "source": [
    "train_df.Action_Class.value_counts()\n",
    "\n",
    "size = [train_df.Action_Class.value_counts()[0],train_df.Action_Class.value_counts()[1],\n",
    "        train_df.Action_Class.value_counts()[2],train_df.Action_Class.value_counts()[3],\n",
    "        train_df.Action_Class.value_counts()[4]]\n",
    "lables = ['3','1','0','2','4']\n",
    "\n",
    "plt.figure(figsize=(18,5))\n",
    "\n",
    "plt.subplot(1,2,1)\n",
    "plt.pie(size,labels=lables,shadow=True)\n",
    "plt.title('Pie')\n",
    "\n",
    "plt.subplot(1,2,2)\n",
    "plt.title('Bar')\n",
    "train_df.groupby('Action_Class').Action_name.count().plot(kind='bar') #Balanced\n",
    "plt.show()"
   ]
  },
  {
   "cell_type": "code",
   "execution_count": null,
   "metadata": {},
   "outputs": [],
   "source": []
  },
  {
   "cell_type": "markdown",
   "metadata": {},
   "source": [
    "## Generator\n",
    "This is one of the most important part of the code. The overall structure of the generator has been given. In the generator, you are going to preprocess the images as you have images of 2 different dimensions as well as create a batch of video frames. You have to experiment with `img_idx`, `y`,`z` and normalization such that you get high accuracy."
   ]
  },
  {
   "cell_type": "code",
   "execution_count": null,
   "metadata": {},
   "outputs": [],
   "source": []
  },
  {
   "cell_type": "markdown",
   "metadata": {},
   "source": [
    "# Image Crop & Resize : Many technique(open-cv, scipy, skimage) "
   ]
  },
  {
   "cell_type": "code",
   "execution_count": 24,
   "metadata": {},
   "outputs": [],
   "source": [
    "\n",
    "#data resizing - Resizing all the images, so we can have all the images in a specific size\n",
    "def crop_resize_img(img):\n",
    "    if img.shape[0] != img.shape[1]:\n",
    "        img=img[0:120,10:150]  #crop the image\n",
    "#     resized_image = cv2.imresize(img, (rows,cols)) # resize the image\n",
    "    resized_image = cv2.resize(img, (rows,cols)) # resize the image\n",
    "    return resized_image\n",
    "\n"
   ]
  },
  {
   "cell_type": "code",
   "execution_count": 25,
   "metadata": {},
   "outputs": [],
   "source": [
    "def generator(source_path, folder_list, batch_size):\n",
    "    print( 'Source path = ', source_path, '; batch size =', batch_size)\n",
    "    img_idx = list(range(5,25)) #create a list of image numbers you want to use for a particular video\n",
    "    x = len(img_idx)\n",
    "    y = 120\n",
    "    z = 120\n",
    "    \n",
    "    \n",
    "    \n",
    "    while True:\n",
    "        t = np.random.permutation(folder_list)\n",
    "#         if len(t)%batch_size==0:\n",
    "        num_batches = int(len(t)//batch_size) # calculate the number of batches\n",
    "#         else:\n",
    "#             num_batches = int(len(t)//batch_size + 1)\n",
    "#             rest_videos_count = int(len(t)%batch_size)\n",
    "            \n",
    "        for batch in range(num_batches): # we iterate over the number of batches\n",
    "            batch_data = np.zeros((batch_size,x,y,z,3)) # x is the number of images you use for each video, (y,z) is the final size of the input images and 3 is the number of channels RGB\n",
    "            batch_labels = np.zeros((batch_size,5)) # batch_labels is the one hot representation of the output\n",
    "            for folder in range(batch_size): # iterate over the batch_size\n",
    "                imgs = os.listdir(source_path+'/'+ t[folder + (batch*batch_size)].split(';')[0]) # read all the images in the folder\n",
    "                for idx,item in enumerate(img_idx): #  Iterate iver the frames/images of a folder to read them in\n",
    "                    image = io.imread(source_path+'/'+ t[folder + (batch*batch_size)].strip().split(';')[0]+'/'+imgs[item]).astype(np.float32)\n",
    "                    \n",
    "                    #crop the images and resize them. Note that the images are of 2 different shape \n",
    "                    #and the conv3D will throw error if the inputs in a batch have different shapes\n",
    "                    resized_img = crop_resize_img(image) #resizing the image\n",
    "                    \n",
    "                    batch_data[folder,idx,:,:,0] = resized_img[:,:,0]/255 #normalise and feed in the image\n",
    "                    batch_data[folder,idx,:,:,1] = resized_img[:,:,1]/255 #normalise and feed in the image\n",
    "                    batch_data[folder,idx,:,:,2] = resized_img[:,:,2]/255 #normalise and feed in the image\n",
    "                    \n",
    "                batch_labels[folder, int(t[folder + (batch*batch_size)].strip().split(';')[2])] = 1\n",
    "            yield batch_data, batch_labels #you yield the batch_data and the batch_labels, remember what does yield do\n",
    "            \n",
    "\n",
    "        \n",
    "        # write the code for the remaining data points which are left after full batches\n",
    "        if int(len(t)%batch_size!=0):\n",
    "            rest_videos_count = int(len(t)%batch_size)\n",
    "            for folder in range(rest_videos_count): # iterate over the batch_size\n",
    "                imgs = os.listdir(source_path+'/'+ t[folder + ((num_batches)*batch_size)].split(';')[0]) # read all the images in the folder\n",
    "                for idx,item in enumerate(img_idx): #  Iterate iver the frames/images of a folder to read them in\n",
    "                    image = io.imread(source_path+'/'+ t[folder + ((num_batches)*batch_size)].strip().split(';')[0]+'/'+imgs[item]).astype(np.float32)\n",
    "                    \n",
    "                    #crop the images and resize them. Note that the images are of 2 different shape \n",
    "                    #and the conv3D will throw error if the inputs in a batch have different shapes\n",
    "                    resized_img = crop_resize_img(image) #resizing the image\n",
    "                    \n",
    "                    batch_data[folder,idx,:,:,0] = resized_img[:,:,0]/255 #normalise and feed in the image\n",
    "                    batch_data[folder,idx,:,:,1] = resized_img[:,:,1]/255 #normalise and feed in the image\n",
    "                    batch_data[folder,idx,:,:,2] = resized_img[:,:,2]/255 #normalise and feed in the image\n",
    "                    \n",
    "                batch_labels[folder, int(t[folder + (num_batches*batch_size)].strip().split(';')[2])] = 1\n",
    "            yield batch_data, batch_labels #you yield the batch_data and the batch_labels, remember what does yield do"
   ]
  },
  {
   "cell_type": "code",
   "execution_count": null,
   "metadata": {},
   "outputs": [],
   "source": []
  },
  {
   "cell_type": "markdown",
   "metadata": {},
   "source": [
    "Note here that a video is represented above in the generator as (number of images, height, width, number of channels). Take this into consideration while creating the model architecture."
   ]
  },
  {
   "cell_type": "code",
   "execution_count": 26,
   "metadata": {},
   "outputs": [
    {
     "name": "stdout",
     "output_type": "stream",
     "text": [
      "# training sequences = 663\n",
      "# validation sequences = 100\n",
      "# epochs = 10\n"
     ]
    }
   ],
   "source": [
    "curr_dt_time = datetime.datetime.now()\n",
    "\n",
    "train_path = 'Project_data/train'\n",
    "val_path = 'Project_data/val'\n",
    "\n",
    "\n",
    "num_train_sequences = len(train_doc)\n",
    "print('# training sequences =', num_train_sequences)\n",
    "num_val_sequences = len(val_doc)\n",
    "print('# validation sequences =', num_val_sequences)\n",
    "num_epochs = 10# choose the number of epochs\n",
    "print ('# epochs =', num_epochs)"
   ]
  },
  {
   "cell_type": "markdown",
   "metadata": {},
   "source": [
    "## Model\n",
    "Here you make the model using different functionalities that Keras provides. Remember to use `Conv3D` and `MaxPooling3D` and not `Conv2D` and `Maxpooling2D` for a 3D convolution model. You would want to use `TimeDistributed` while building a Conv2D + RNN model. Also remember that the last layer is the softmax. Design the network in such a way that the model is able to give good accuracy on the least number of parameters so that it can fit in the memory of the webcam."
   ]
  },
  {
   "cell_type": "code",
   "execution_count": 27,
   "metadata": {},
   "outputs": [],
   "source": [
    "from keras.models import Sequential, Model\n",
    "from keras.layers import Dense, Flatten, TimeDistributed, Flatten, BatchNormalization, Activation, Dropout\n",
    "from keras.layers import Bidirectional,LSTM, SimpleRNN, GRU\n",
    "from keras.layers.convolutional import Conv3D, MaxPooling3D, Conv2D, MaxPooling2D\n",
    "from keras.callbacks import ModelCheckpoint, ReduceLROnPlateau\n",
    "from keras.regularizers import l2\n",
    "from keras import optimizers\n",
    "\n",
    "#write your model here"
   ]
  },
  {
   "cell_type": "markdown",
   "metadata": {},
   "source": [
    "Now that you have written the model, the next step is to `compile` the model. When you print the `summary` of the model, you'll see the total number of parameters you have to train."
   ]
  },
  {
   "cell_type": "code",
   "execution_count": 28,
   "metadata": {},
   "outputs": [],
   "source": [
    "frame = 20\n",
    "rows = 120\n",
    "cols = 120\n",
    "channel_color = 3\n",
    "num_classes = 5"
   ]
  },
  {
   "cell_type": "markdown",
   "metadata": {},
   "source": [
    "# <font color = 'blue'> Model 1 : Vanilla Conv3d"
   ]
  },
  {
   "cell_type": "code",
   "execution_count": 29,
   "metadata": {},
   "outputs": [],
   "source": [
    "model = Sequential()\n",
    "\n",
    "model.add(Conv3D(32, kernel_size = (3,3,3), padding = \"same\", activation = \"relu\" , input_shape = (frame, rows, cols, channel_color)))\n",
    "model.add(BatchNormalization())\n",
    "\n",
    "#HL1\n",
    "model.add(Conv3D(64, kernel_size=(3,3,3), padding='same', activation='relu'))\n",
    "model.add(BatchNormalization())\n",
    "model.add(MaxPooling3D(pool_size=(2, 2, 2)))\n",
    "\n",
    "#HL2\n",
    "model.add(Conv3D(128, kernel_size=(3,3,3), padding='same', activation='relu'))\n",
    "model.add(BatchNormalization())\n",
    "model.add(MaxPooling3D(pool_size=(2, 2, 2)))\n",
    "\n",
    "#Fully connected\n",
    "model.add(Flatten())\n",
    "model.add(Dense(256,  activation = \"relu\"))\n",
    "\n",
    "#output layer\n",
    "model.add(Dense(num_classes, activation = \"softmax\"))\n"
   ]
  },
  {
   "cell_type": "code",
   "execution_count": null,
   "metadata": {},
   "outputs": [],
   "source": []
  },
  {
   "cell_type": "code",
   "execution_count": 30,
   "metadata": {},
   "outputs": [
    {
     "name": "stdout",
     "output_type": "stream",
     "text": [
      "_________________________________________________________________\n",
      "Layer (type)                 Output Shape              Param #   \n",
      "=================================================================\n",
      "conv3d_5 (Conv3D)            (None, 20, 120, 120, 32)  2624      \n",
      "_________________________________________________________________\n",
      "batch_normalization_5 (Batch (None, 20, 120, 120, 32)  128       \n",
      "_________________________________________________________________\n",
      "conv3d_6 (Conv3D)            (None, 20, 120, 120, 64)  55360     \n",
      "_________________________________________________________________\n",
      "batch_normalization_6 (Batch (None, 20, 120, 120, 64)  256       \n",
      "_________________________________________________________________\n",
      "max_pooling3d_5 (MaxPooling3 (None, 10, 60, 60, 64)    0         \n",
      "_________________________________________________________________\n",
      "conv3d_7 (Conv3D)            (None, 10, 60, 60, 128)   221312    \n",
      "_________________________________________________________________\n",
      "batch_normalization_7 (Batch (None, 10, 60, 60, 128)   512       \n",
      "_________________________________________________________________\n",
      "max_pooling3d_6 (MaxPooling3 (None, 5, 30, 30, 128)    0         \n",
      "_________________________________________________________________\n",
      "flatten_2 (Flatten)          (None, 576000)            0         \n",
      "_________________________________________________________________\n",
      "dense_3 (Dense)              (None, 256)               147456256 \n",
      "_________________________________________________________________\n",
      "dense_4 (Dense)              (None, 5)                 1285      \n",
      "=================================================================\n",
      "Total params: 147,737,733\n",
      "Trainable params: 147,737,285\n",
      "Non-trainable params: 448\n",
      "_________________________________________________________________\n",
      "None\n"
     ]
    }
   ],
   "source": [
    "optimiser = \"adam\"#write your optimizer\n",
    "model.compile(optimizer=optimiser, loss='categorical_crossentropy', metrics=['categorical_accuracy'])\n",
    "print (model.summary())"
   ]
  },
  {
   "cell_type": "markdown",
   "metadata": {},
   "source": [
    "Let us create the `train_generator` and the `val_generator` which will be used in `.fit_generator`."
   ]
  },
  {
   "cell_type": "code",
   "execution_count": 31,
   "metadata": {},
   "outputs": [],
   "source": [
    "train_generator = generator(train_path, train_doc, batch_size)\n",
    "val_generator = generator(val_path, val_doc, batch_size)"
   ]
  },
  {
   "cell_type": "code",
   "execution_count": null,
   "metadata": {},
   "outputs": [],
   "source": []
  },
  {
   "cell_type": "code",
   "execution_count": 32,
   "metadata": {},
   "outputs": [],
   "source": [
    "model_name = 'model_init' + '_' + str(curr_dt_time).replace(' ','').replace(':','_') + '/'\n",
    "    \n",
    "if not os.path.exists(model_name):\n",
    "    os.mkdir(model_name)\n",
    "        \n",
    "filepath = model_name + 'model-{epoch:05d}-{loss:.5f}-{categorical_accuracy:.5f}-{val_loss:.5f}-{val_categorical_accuracy:.5f}.h5'\n",
    "\n",
    "checkpoint = ModelCheckpoint(filepath, monitor='val_loss', verbose=1, save_best_only=True, save_weights_only=False, mode='auto', period=1)\n",
    "\n",
    "# write the REducelronplateau code here\n",
    "LR = ReduceLROnPlateau(monitor = \"val_loss\", fractor = 0.5, patience = 2, cooldown = 1, verbose = 1)\n",
    "callbacks_list = [checkpoint, LR]"
   ]
  },
  {
   "cell_type": "markdown",
   "metadata": {},
   "source": [
    "The `steps_per_epoch` and `validation_steps` are used by `fit_generator` to decide the number of next() calls it need to make."
   ]
  },
  {
   "cell_type": "code",
   "execution_count": 33,
   "metadata": {},
   "outputs": [
    {
     "name": "stdout",
     "output_type": "stream",
     "text": [
      "Train Epoch value:  67\n",
      "Val Epoch value:  10\n"
     ]
    }
   ],
   "source": [
    "if (num_train_sequences%batch_size) == 0:\n",
    "    steps_per_epoch = int(num_train_sequences/batch_size)\n",
    "else:\n",
    "    steps_per_epoch = (num_train_sequences//batch_size) + 1\n",
    "\n",
    "if (num_val_sequences%batch_size) == 0:\n",
    "    validation_steps = int(num_val_sequences/batch_size)\n",
    "else:\n",
    "    validation_steps = (num_val_sequences//batch_size) + 1\n",
    "    \n",
    "    \n",
    "print(\"Train Epoch value: \", steps_per_epoch)\n",
    "print(\"Val Epoch value: \", validation_steps)"
   ]
  },
  {
   "cell_type": "markdown",
   "metadata": {},
   "source": [
    "Let us now fit the model. This will start training the model and with the help of the checkpoints, you'll be able to save the model at the end of each epoch."
   ]
  },
  {
   "cell_type": "code",
   "execution_count": 18,
   "metadata": {},
   "outputs": [
    {
     "name": "stdout",
     "output_type": "stream",
     "text": [
      "Source path =  Project_data/val Source path =  Project_data/train ; batch size = 10\n",
      "; batch size = 10\n",
      "Epoch 1/10\n",
      "67/67 [==============================] - 191s 3s/step - loss: 12.7164 - categorical_accuracy: 0.2104 - val_loss: 13.2168 - val_categorical_accuracy: 0.1800\n",
      "\n",
      "Epoch 00001: val_loss improved from inf to 13.21684, saving model to model_init_2020-09-1415_34_58.030609/model-00001-12.71641-0.21045-13.21684-0.18000.h5\n",
      "Epoch 2/10\n",
      "67/67 [==============================] - 168s 3s/step - loss: 12.8464 - categorical_accuracy: 0.2030 - val_loss: 13.2168 - val_categorical_accuracy: 0.1800\n",
      "\n",
      "Epoch 00002: val_loss did not improve from 13.21684\n",
      "Epoch 3/10\n",
      "67/67 [==============================] - 168s 3s/step - loss: 12.9426 - categorical_accuracy: 0.2060 - val_loss: 13.2168 - val_categorical_accuracy: 0.1800\n",
      "\n",
      "Epoch 00003: val_loss did not improve from 13.21684\n",
      "\n",
      "Epoch 00003: ReduceLROnPlateau reducing learning rate to 0.00010000000474974513.\n",
      "Epoch 4/10\n",
      "67/67 [==============================] - 168s 3s/step - loss: 12.9185 - categorical_accuracy: 0.2075 - val_loss: 13.2168 - val_categorical_accuracy: 0.1800\n",
      "\n",
      "Epoch 00004: val_loss did not improve from 13.21684\n",
      "Epoch 5/10\n",
      "67/67 [==============================] - 168s 3s/step - loss: 12.8464 - categorical_accuracy: 0.2090 - val_loss: 13.2168 - val_categorical_accuracy: 0.1800\n",
      "\n",
      "Epoch 00005: val_loss did not improve from 13.21684\n",
      "\n",
      "Epoch 00005: ReduceLROnPlateau reducing learning rate to 1.0000000474974514e-05.\n",
      "Epoch 6/10\n",
      "67/67 [==============================] - 168s 3s/step - loss: 12.9426 - categorical_accuracy: 0.2060 - val_loss: 13.2169 - val_categorical_accuracy: 0.1800\n",
      "\n",
      "Epoch 00006: val_loss did not improve from 13.21684\n",
      "Epoch 7/10\n",
      "67/67 [==============================] - 168s 3s/step - loss: 12.9185 - categorical_accuracy: 0.2075 - val_loss: 13.2727 - val_categorical_accuracy: 0.1700\n",
      "\n",
      "Epoch 00007: val_loss did not improve from 13.21684\n",
      "\n",
      "Epoch 00007: ReduceLROnPlateau reducing learning rate to 1.0000000656873453e-06.\n",
      "Epoch 8/10\n",
      "67/67 [==============================] - 168s 3s/step - loss: 12.8704 - categorical_accuracy: 0.2104 - val_loss: 13.2858 - val_categorical_accuracy: 0.1700\n",
      "\n",
      "Epoch 00008: val_loss did not improve from 13.21684\n",
      "Epoch 9/10\n",
      "67/67 [==============================] - 168s 3s/step - loss: 12.8464 - categorical_accuracy: 0.2060 - val_loss: 13.3462 - val_categorical_accuracy: 0.1700\n",
      "\n",
      "Epoch 00009: val_loss did not improve from 13.21684\n",
      "\n",
      "Epoch 00009: ReduceLROnPlateau reducing learning rate to 1.0000001111620805e-07.\n",
      "Epoch 10/10\n",
      "67/67 [==============================] - 168s 3s/step - loss: 12.8704 - categorical_accuracy: 0.2104 - val_loss: 13.3221 - val_categorical_accuracy: 0.1700\n",
      "\n",
      "Epoch 00010: val_loss did not improve from 13.21684\n"
     ]
    }
   ],
   "source": [
    "history = model.fit_generator(train_generator, steps_per_epoch=steps_per_epoch, epochs=num_epochs, verbose=1, \n",
    "                    callbacks=callbacks_list, validation_data=val_generator, \n",
    "                    validation_steps=validation_steps, class_weight=None, workers=1, initial_epoch=0)"
   ]
  },
  {
   "cell_type": "code",
   "execution_count": 19,
   "metadata": {},
   "outputs": [],
   "source": [
    "def plot(history):\n",
    "    fig, axes = plt.subplots(nrows=1, ncols=2, figsize=(15,4))\n",
    "    axes[0].plot(history.history['loss'])   \n",
    "    axes[0].plot(history.history['val_loss'])\n",
    "    axes[0].legend(['loss','val_loss'], loc='upper left')\n",
    "\n",
    "    axes[1].plot(history.history['categorical_accuracy'])   \n",
    "    axes[1].plot(history.history['val_categorical_accuracy'])\n",
    "    axes[1].legend(['categorical_accuracy','val_categorical_accuracy'], loc='upper left')"
   ]
  },
  {
   "cell_type": "code",
   "execution_count": 20,
   "metadata": {},
   "outputs": [
    {
     "data": {
      "image/png": "[encoded data removed]",
      "text/plain": [
       "<Figure size 1080x288 with 2 Axes>"
      ]
     },
     "metadata": {},
     "output_type": "display_data"
    }
   ],
   "source": [
    "plot(history)"
   ]
  },
  {
   "cell_type": "code",
   "execution_count": null,
   "metadata": {},
   "outputs": [],
   "source": []
  },
  {
   "cell_type": "code",
   "execution_count": 26,
   "metadata": {},
   "outputs": [],
   "source": [
    "model_detail_df = pd.DataFrame()"
   ]
  },
  {
   "cell_type": "code",
   "execution_count": 27,
   "metadata": {},
   "outputs": [],
   "source": [
    "def model_result(model_name ,accuracy, loss, val_accuracy, val_loss):\n",
    "    model_detail_dic = {\"Model Name\" : model_name,\n",
    "                   \"Model Accuracy\" : accuracy * 100,\n",
    "                   \"Model Loss\" : loss * 100 ,\n",
    "                   \"Val Accuracy\" : val_accuracy * 100,\n",
    "                   \"Val Loss\" : val_loss * 100}\n",
    "\n",
    "    df = pd.DataFrame([model_detail_dic])\n",
    "    return df\n",
    "    "
   ]
  },
  {
   "cell_type": "code",
   "execution_count": 28,
   "metadata": {},
   "outputs": [
    {
     "name": "stdout",
     "output_type": "stream",
     "text": [
      "   Model Accuracy   Model Loss       Model Name  Val Accuracy     Val Loss\n",
      "0       21.044777  1287.041966  Model_1_Vanilla          17.0  1332.210426\n"
     ]
    }
   ],
   "source": [
    "df1 = model_result(\"Model_1_Vanilla\",history.history['categorical_accuracy'][-1], history.history['loss'][-1] , history.history['val_categorical_accuracy'][-1], history.history['val_loss'][-1])\n",
    "\n",
    "model_detail_df = pd.concat([model_detail_df,df1])\n",
    "print(model_detail_df.head(20))"
   ]
  },
  {
   "cell_type": "code",
   "execution_count": null,
   "metadata": {},
   "outputs": [],
   "source": []
  },
  {
   "cell_type": "code",
   "execution_count": null,
   "metadata": {},
   "outputs": [],
   "source": []
  },
  {
   "cell_type": "markdown",
   "metadata": {},
   "source": [
    "# <font color = 'blue'> Model 3: changing optimizer to \"SGD\" & Added L2 Regularization"
   ]
  },
  {
   "cell_type": "code",
   "execution_count": 14,
   "metadata": {
    "scrolled": true
   },
   "outputs": [
    {
     "name": "stdout",
     "output_type": "stream",
     "text": [
      "_________________________________________________________________\n",
      "Layer (type)                 Output Shape              Param #   \n",
      "=================================================================\n",
      "conv3d_1 (Conv3D)            (None, 20, 120, 120, 16)  1312      \n",
      "_________________________________________________________________\n",
      "batch_normalization_1 (Batch (None, 20, 120, 120, 16)  64        \n",
      "_________________________________________________________________\n",
      "max_pooling3d_1 (MaxPooling3 (None, 10, 60, 60, 16)    0         \n",
      "_________________________________________________________________\n",
      "conv3d_2 (Conv3D)            (None, 10, 60, 60, 32)    13856     \n",
      "_________________________________________________________________\n",
      "batch_normalization_2 (Batch (None, 10, 60, 60, 32)    128       \n",
      "_________________________________________________________________\n",
      "max_pooling3d_2 (MaxPooling3 (None, 5, 30, 30, 32)     0         \n",
      "_________________________________________________________________\n",
      "dropout_1 (Dropout)          (None, 5, 30, 30, 32)     0         \n",
      "_________________________________________________________________\n",
      "conv3d_3 (Conv3D)            (None, 5, 30, 30, 64)     55360     \n",
      "_________________________________________________________________\n",
      "batch_normalization_3 (Batch (None, 5, 30, 30, 64)     256       \n",
      "_________________________________________________________________\n",
      "max_pooling3d_3 (MaxPooling3 (None, 2, 15, 15, 64)     0         \n",
      "_________________________________________________________________\n",
      "dropout_2 (Dropout)          (None, 2, 15, 15, 64)     0         \n",
      "_________________________________________________________________\n",
      "conv3d_4 (Conv3D)            (None, 2, 15, 15, 128)    221312    \n",
      "_________________________________________________________________\n",
      "batch_normalization_4 (Batch (None, 2, 15, 15, 128)    512       \n",
      "_________________________________________________________________\n",
      "max_pooling3d_4 (MaxPooling3 (None, 1, 7, 7, 128)      0         \n",
      "_________________________________________________________________\n",
      "flatten_1 (Flatten)          (None, 6272)              0         \n",
      "_________________________________________________________________\n",
      "dense_1 (Dense)              (None, 512)               3211776   \n",
      "_________________________________________________________________\n",
      "dropout_3 (Dropout)          (None, 512)               0         \n",
      "_________________________________________________________________\n",
      "dense_2 (Dense)              (None, 5)                 2565      \n",
      "=================================================================\n",
      "Total params: 3,507,141\n",
      "Trainable params: 3,506,661\n",
      "Non-trainable params: 480\n",
      "_________________________________________________________________\n",
      "None\n"
     ]
    }
   ],
   "source": [
    "#Let's try 'sgd' as optimizer on same architecture with 10 epochs\n",
    "\n",
    "model = Sequential()\n",
    "\n",
    "\n",
    "model.add(Conv3D(16, kernel_size=(3,3,3), padding='same', activation='relu',input_shape = (20,120,120,3)))\n",
    "model.add(BatchNormalization())\n",
    "model.add(MaxPooling3D(pool_size=(2, 2, 2)))\n",
    "\n",
    "model.add(Conv3D(32, kernel_size=(3,3,3), padding='same', activation='relu'))\n",
    "model.add(BatchNormalization())\n",
    "model.add(MaxPooling3D(pool_size=(2, 2, 2)))\n",
    "model.add(Dropout(0.25))\n",
    "\n",
    "model.add(Conv3D(64, kernel_size=(3,3,3), padding='same', activation='relu'))\n",
    "model.add(BatchNormalization())\n",
    "model.add(MaxPooling3D(pool_size=(2, 2, 2)))\n",
    "model.add(Dropout(0.25))\n",
    "\n",
    "model.add(Conv3D(128, kernel_size=(3,3,3), padding='same', activation='relu'))\n",
    "model.add(BatchNormalization())\n",
    "model.add(MaxPooling3D(pool_size=(2, 2, 2)))\n",
    "\n",
    "model.add(Flatten())\n",
    "model.add(Dense(512,kernel_regularizer=l2(0.01),activation='relu'))\n",
    "model.add(Dropout(0.50))\n",
    "\n",
    "\n",
    "\n",
    "model.add(Dense(5, activation = 'softmax'))\n",
    "\n",
    "optimiser = 'sgd'\n",
    "model.compile(optimizer=optimiser, loss='categorical_crossentropy', metrics=['categorical_accuracy'])\n",
    "print (model.summary())"
   ]
  },
  {
   "cell_type": "code",
   "execution_count": null,
   "metadata": {},
   "outputs": [],
   "source": []
  },
  {
   "cell_type": "code",
   "execution_count": null,
   "metadata": {},
   "outputs": [
    {
     "name": "stdout",
     "output_type": "stream",
     "text": [
      "Source path =  Project_data/val ; batch size = 10\n",
      "Source path =  Project_data/train ; batch size = 10\n",
      "Epoch 1/10\n",
      "22/67 [========>.....................] - ETA: 3:34 - loss: 12.2790 - categorical_accuracy: 0.2091"
     ]
    }
   ],
   "source": [
    "history = model.fit_generator(train_generator, steps_per_epoch=steps_per_epoch, epochs=num_epochs, verbose=1, \n",
    "                    callbacks=callbacks_list, validation_data=val_generator, \n",
    "                    validation_steps=validation_steps, class_weight=None, workers=1, initial_epoch=0)"
   ]
  },
  {
   "cell_type": "code",
   "execution_count": null,
   "metadata": {},
   "outputs": [],
   "source": [
    "plot(history)"
   ]
  },
  {
   "cell_type": "code",
   "execution_count": null,
   "metadata": {},
   "outputs": [],
   "source": []
  },
  {
   "cell_type": "code",
   "execution_count": null,
   "metadata": {},
   "outputs": [],
   "source": [
    "df1 = model_result(\"Model_3_SGD\",history.history['categorical_accuracy'][-1], history.history['loss'][-1] , history.history['val_categorical_accuracy'][-1], history.history['val_loss'][-1])\n",
    "\n",
    "model_detail_df = pd.concat([model_detail_df,df1])\n",
    "print(model_detail_df.head(20))"
   ]
  },
  {
   "cell_type": "markdown",
   "metadata": {},
   "source": [
    "# <font color = 'blue'> Model 2 : Reducing Filter (2,2,2) & Added Huper Tuning Paramaters"
   ]
  },
  {
   "cell_type": "code",
   "execution_count": 23,
   "metadata": {},
   "outputs": [
    {
     "name": "stdout",
     "output_type": "stream",
     "text": [
      "_________________________________________________________________\n",
      "Layer (type)                 Output Shape              Param #   \n",
      "=================================================================\n",
      "conv3d_8 (Conv3D)            (None, 20, 120, 120, 16)  1312      \n",
      "_________________________________________________________________\n",
      "batch_normalization_8 (Batch (None, 20, 120, 120, 16)  64        \n",
      "_________________________________________________________________\n",
      "max_pooling3d_7 (MaxPooling3 (None, 10, 60, 60, 16)    0         \n",
      "_________________________________________________________________\n",
      "conv3d_9 (Conv3D)            (None, 10, 60, 60, 32)    13856     \n",
      "_________________________________________________________________\n",
      "batch_normalization_9 (Batch (None, 10, 60, 60, 32)    128       \n",
      "_________________________________________________________________\n",
      "max_pooling3d_8 (MaxPooling3 (None, 5, 30, 30, 32)     0         \n",
      "_________________________________________________________________\n",
      "dropout_4 (Dropout)          (None, 5, 30, 30, 32)     0         \n",
      "_________________________________________________________________\n",
      "conv3d_10 (Conv3D)           (None, 5, 30, 30, 64)     55360     \n",
      "_________________________________________________________________\n",
      "batch_normalization_10 (Batc (None, 5, 30, 30, 64)     256       \n",
      "_________________________________________________________________\n",
      "max_pooling3d_9 (MaxPooling3 (None, 2, 15, 15, 64)     0         \n",
      "_________________________________________________________________\n",
      "dropout_5 (Dropout)          (None, 2, 15, 15, 64)     0         \n",
      "_________________________________________________________________\n",
      "conv3d_11 (Conv3D)           (None, 2, 15, 15, 128)    221312    \n",
      "_________________________________________________________________\n",
      "batch_normalization_11 (Batc (None, 2, 15, 15, 128)    512       \n",
      "_________________________________________________________________\n",
      "max_pooling3d_10 (MaxPooling (None, 1, 7, 7, 128)      0         \n",
      "_________________________________________________________________\n",
      "flatten_3 (Flatten)          (None, 6272)              0         \n",
      "_________________________________________________________________\n",
      "dense_5 (Dense)              (None, 512)               3211776   \n",
      "_________________________________________________________________\n",
      "dropout_6 (Dropout)          (None, 512)               0         \n",
      "_________________________________________________________________\n",
      "dense_6 (Dense)              (None, 5)                 2565      \n",
      "=================================================================\n",
      "Total params: 3,507,141\n",
      "Trainable params: 3,506,661\n",
      "Non-trainable params: 480\n",
      "_________________________________________________________________\n",
      "None\n"
     ]
    }
   ],
   "source": [
    "#Let's try reducing the filter \n",
    "# Added Batch normalization to each layer\n",
    "#\n",
    "\n",
    "model2 = Sequential()\n",
    "\n",
    "\n",
    "model2.add(Conv3D(16, kernel_size=(2,2,2), padding='same', activation='relu',input_shape = (20,120,120,3)))\n",
    "model2.add(BatchNormalization())\n",
    "model2.add(MaxPooling3D(pool_size=(2, 2, 2)))\n",
    "\n",
    "model2.add(Conv3D(32, kernel_size=(2,2,2), padding='same', activation='relu'))\n",
    "model2.add(BatchNormalization())\n",
    "model2.add(MaxPooling3D(pool_size=(2, 2, 2)))\n",
    "model2.add(Dropout(0.25))\n",
    "\n",
    "model2.add(Conv3D(64, kernel_size=(2,2,2), padding='same', activation='relu'))\n",
    "model2.add(BatchNormalization())\n",
    "model2.add(MaxPooling3D(pool_size=(2, 2, 2)))\n",
    "model2.add(Dropout(0.25))\n",
    "\n",
    "model2.add(Conv3D(128, kernel_size=(2,2,2), padding='same', activation='relu'))\n",
    "model2.add(BatchNormalization())\n",
    "model2.add(MaxPooling3D(pool_size=(2, 2, 2)))\n",
    "\n",
    "model2.add(Flatten())\n",
    "model2.add(Dense(512,kernel_regularizer=l2(0.01),activation='relu'))\n",
    "model2.add(Dropout(0.50))\n",
    "\n",
    "\n",
    "\n",
    "model2.add(Dense(5, activation = 'softmax'))\n",
    "\n",
    "optimiser = 'adam'\n",
    "model2.compile(optimizer=optimiser, loss='categorical_crossentropy', metrics=['categorical_accuracy'])\n",
    "print (model.summary())"
   ]
  },
  {
   "cell_type": "code",
   "execution_count": null,
   "metadata": {},
   "outputs": [],
   "source": []
  },
  {
   "cell_type": "code",
   "execution_count": 28,
   "metadata": {
    "scrolled": false
   },
   "outputs": [
    {
     "name": "stdout",
     "output_type": "stream",
     "text": [
      "Epoch 1/10\n",
      "67/67 [==============================] - 40s 593ms/step - loss: 18.4878 - categorical_accuracy: 0.2060 - val_loss: 16.1097 - val_categorical_accuracy: 0.2200\n",
      "\n",
      "Epoch 00001: val_loss did not improve from 8.53787\n",
      "Epoch 2/10\n",
      "67/67 [==============================] - 36s 542ms/step - loss: 15.2815 - categorical_accuracy: 0.2104 - val_loss: 14.4870 - val_categorical_accuracy: 0.2100\n",
      "\n",
      "Epoch 00002: val_loss did not improve from 8.53787\n",
      "Epoch 3/10\n",
      "67/67 [==============================] - 36s 533ms/step - loss: 14.0574 - categorical_accuracy: 0.2134 - val_loss: 13.1881 - val_categorical_accuracy: 0.2400\n",
      "\n",
      "Epoch 00003: val_loss did not improve from 8.53787\n",
      "Epoch 4/10\n",
      "67/67 [==============================] - 36s 540ms/step - loss: 13.7596 - categorical_accuracy: 0.1940 - val_loss: 12.7583 - val_categorical_accuracy: 0.2200\n",
      "\n",
      "Epoch 00004: val_loss did not improve from 8.53787\n",
      "Epoch 5/10\n",
      "67/67 [==============================] - 36s 540ms/step - loss: 13.1404 - categorical_accuracy: 0.2149 - val_loss: 11.2952 - val_categorical_accuracy: 0.2400\n",
      "\n",
      "Epoch 00005: val_loss did not improve from 8.53787\n",
      "Epoch 6/10\n",
      "67/67 [==============================] - 36s 530ms/step - loss: 13.6927 - categorical_accuracy: 0.1970 - val_loss: 15.6624 - val_categorical_accuracy: 0.1500\n",
      "\n",
      "Epoch 00006: val_loss did not improve from 8.53787\n",
      "Epoch 7/10\n",
      "67/67 [==============================] - 35s 528ms/step - loss: 14.4889 - categorical_accuracy: 0.1836 - val_loss: 14.8381 - val_categorical_accuracy: 0.1400\n",
      "\n",
      "Epoch 00007: val_loss did not improve from 8.53787\n",
      "\n",
      "Epoch 00007: ReduceLROnPlateau reducing learning rate to 0.00010000000474974513.\n",
      "Epoch 8/10\n",
      "67/67 [==============================] - 35s 523ms/step - loss: 13.4516 - categorical_accuracy: 0.2254 - val_loss: 11.8973 - val_categorical_accuracy: 0.3000\n",
      "\n",
      "Epoch 00008: val_loss did not improve from 8.53787\n",
      "Epoch 9/10\n",
      "67/67 [==============================] - 36s 540ms/step - loss: 12.4035 - categorical_accuracy: 0.2701 - val_loss: 14.2420 - val_categorical_accuracy: 0.1800\n",
      "\n",
      "Epoch 00009: val_loss did not improve from 8.53787\n",
      "\n",
      "Epoch 00009: ReduceLROnPlateau reducing learning rate to 1.0000000474974514e-05.\n",
      "Epoch 10/10\n",
      "67/67 [==============================] - 36s 543ms/step - loss: 12.6629 - categorical_accuracy: 0.2612 - val_loss: 13.1232 - val_categorical_accuracy: 0.2300\n",
      "\n",
      "Epoch 00010: val_loss did not improve from 8.53787\n"
     ]
    },
    {
     "data": {
      "text/plain": [
       "<keras.callbacks.History at 0x7f28e8c78940>"
      ]
     },
     "execution_count": 28,
     "metadata": {},
     "output_type": "execute_result"
    }
   ],
   "source": [
    "history = model2.fit_generator(train_generator, steps_per_epoch=steps_per_epoch, epochs=num_epochs, verbose=1, \n",
    "                    callbacks=callbacks_list, validation_data=val_generator, \n",
    "                    validation_steps=validation_steps, class_weight=None, workers=1, initial_epoch=0)"
   ]
  },
  {
   "cell_type": "code",
   "execution_count": null,
   "metadata": {},
   "outputs": [],
   "source": [
    "plot(history)"
   ]
  },
  {
   "cell_type": "code",
   "execution_count": null,
   "metadata": {},
   "outputs": [],
   "source": []
  },
  {
   "cell_type": "code",
   "execution_count": null,
   "metadata": {},
   "outputs": [],
   "source": [
    "df1 = model_result(\"Model_2_Tuning\",history.history['categorical_accuracy'][-1], history.history['loss'][-1] , history.history['val_categorical_accuracy'][-1], history.history['val_loss'][-1])\n",
    "\n",
    "model_detail_df = pd.concat([model_detail_df,df1])\n",
    "print(model_detail_df.head(20))"
   ]
  },
  {
   "cell_type": "markdown",
   "metadata": {},
   "source": [
    "# <font color = 'blue'> Model 4 : Added more Hidden Layer"
   ]
  },
  {
   "cell_type": "code",
   "execution_count": 25,
   "metadata": {},
   "outputs": [
    {
     "name": "stdout",
     "output_type": "stream",
     "text": [
      "_________________________________________________________________\n",
      "Layer (type)                 Output Shape              Param #   \n",
      "=================================================================\n",
      "conv3d_16 (Conv3D)           (None, 20, 120, 120, 16)  1312      \n",
      "_________________________________________________________________\n",
      "batch_normalization_16 (Batc (None, 20, 120, 120, 16)  64        \n",
      "_________________________________________________________________\n",
      "max_pooling3d_15 (MaxPooling (None, 10, 60, 60, 16)    0         \n",
      "_________________________________________________________________\n",
      "conv3d_17 (Conv3D)           (None, 10, 60, 60, 32)    13856     \n",
      "_________________________________________________________________\n",
      "batch_normalization_17 (Batc (None, 10, 60, 60, 32)    128       \n",
      "_________________________________________________________________\n",
      "conv3d_18 (Conv3D)           (None, 10, 60, 60, 32)    27680     \n",
      "_________________________________________________________________\n",
      "batch_normalization_18 (Batc (None, 10, 60, 60, 32)    128       \n",
      "_________________________________________________________________\n",
      "max_pooling3d_16 (MaxPooling (None, 5, 30, 30, 32)     0         \n",
      "_________________________________________________________________\n",
      "conv3d_19 (Conv3D)           (None, 5, 30, 30, 64)     55360     \n",
      "_________________________________________________________________\n",
      "batch_normalization_19 (Batc (None, 5, 30, 30, 64)     256       \n",
      "_________________________________________________________________\n",
      "conv3d_20 (Conv3D)           (None, 5, 30, 30, 64)     110656    \n",
      "_________________________________________________________________\n",
      "batch_normalization_20 (Batc (None, 5, 30, 30, 64)     256       \n",
      "_________________________________________________________________\n",
      "max_pooling3d_17 (MaxPooling (None, 2, 15, 15, 64)     0         \n",
      "_________________________________________________________________\n",
      "conv3d_21 (Conv3D)           (None, 2, 15, 15, 128)    221312    \n",
      "_________________________________________________________________\n",
      "batch_normalization_21 (Batc (None, 2, 15, 15, 128)    512       \n",
      "_________________________________________________________________\n",
      "conv3d_22 (Conv3D)           (None, 2, 15, 15, 128)    442496    \n",
      "_________________________________________________________________\n",
      "batch_normalization_22 (Batc (None, 2, 15, 15, 128)    512       \n",
      "_________________________________________________________________\n",
      "max_pooling3d_18 (MaxPooling (None, 1, 7, 7, 128)      0         \n",
      "_________________________________________________________________\n",
      "flatten_5 (Flatten)          (None, 6272)              0         \n",
      "_________________________________________________________________\n",
      "dense_9 (Dense)              (None, 256)               1605888   \n",
      "_________________________________________________________________\n",
      "dropout_10 (Dropout)         (None, 256)               0         \n",
      "_________________________________________________________________\n",
      "dense_10 (Dense)             (None, 5)                 1285      \n",
      "=================================================================\n",
      "Total params: 2,481,701\n",
      "Trainable params: 2,480,773\n",
      "Non-trainable params: 928\n",
      "_________________________________________________________________\n",
      "None\n"
     ]
    }
   ],
   "source": [
    "# Adding more layer to the architecture \n",
    "\n",
    "model = Sequential()\n",
    "\n",
    "\n",
    "model.add(Conv3D(16, kernel_size=(3,3,3), padding='same', activation='relu',input_shape = (20,120,120,3)))\n",
    "model.add(BatchNormalization())\n",
    "\n",
    "model.add(MaxPooling3D(pool_size=(2, 2, 2)))\n",
    "## h1,2\n",
    "model.add(Conv3D(32, kernel_size=(3,3,3), padding='same', activation='relu'))\n",
    "model.add(BatchNormalization())\n",
    "\n",
    "model.add(Conv3D(32, kernel_size=(3,3,3), padding='same', activation='relu'))\n",
    "model.add(BatchNormalization())\n",
    "\n",
    "model.add(MaxPooling3D(pool_size=(2, 2, 2)))\n",
    "\n",
    "## h3,4\n",
    "model.add(Conv3D(64, kernel_size=(3,3,3), padding='same', activation='relu'))\n",
    "model.add(BatchNormalization())\n",
    "\n",
    "\n",
    "model.add(Conv3D(64, kernel_size=(3,3,3), padding='same', activation='relu'))\n",
    "model.add(BatchNormalization())\n",
    "\n",
    "model.add(MaxPooling3D(pool_size=(2, 2, 2)))\n",
    "\n",
    "## h5,6\n",
    "model.add(Conv3D(128, kernel_size=(3,3,3), padding='same', activation='relu'))\n",
    "model.add(BatchNormalization())\n",
    "\n",
    "model.add(Conv3D(128, kernel_size=(3,3,3), padding='same', activation='relu'))\n",
    "model.add(BatchNormalization())\n",
    "\n",
    "model.add(MaxPooling3D(pool_size=(2, 2, 2)))\n",
    "\n",
    "model.add(Flatten())\n",
    "model.add(Dense(256,kernel_regularizer=l2(0.01),activation='relu'))\n",
    "model.add(Dropout(0.50))\n",
    "\n",
    "model.add(Dense(5, activation = 'softmax'))\n",
    "\n",
    "optimiser = 'sgd'\n",
    "model.compile(optimizer=optimiser, loss='categorical_crossentropy', metrics=['categorical_accuracy'])\n",
    "print (model.summary())"
   ]
  },
  {
   "cell_type": "code",
   "execution_count": 17,
   "metadata": {},
   "outputs": [
    {
     "name": "stdout",
     "output_type": "stream",
     "text": [
      "Source path = Source path =  Project_data/train ; batch size = 10\n",
      "Epoch 1/10 Project_data/val ; batch size = 10\n",
      "\n",
      "67/67 [==============================] - 168s 3s/step - loss: 12.1068 - categorical_accuracy: 0.2537 - val_loss: 9.5518 - val_categorical_accuracy: 0.2500\n",
      "\n",
      "Epoch 00001: val_loss improved from inf to 9.55178, saving model to model_init_2020-09-1412_55_21.501249/model-00001-12.10685-0.25373-9.55178-0.25000.h5\n",
      "Epoch 2/10\n",
      "67/67 [==============================] - 39s 581ms/step - loss: 6.4202 - categorical_accuracy: 0.4000 - val_loss: 5.9225 - val_categorical_accuracy: 0.4900\n",
      "\n",
      "Epoch 00002: val_loss improved from 9.55178 to 5.92254, saving model to model_init_2020-09-1412_55_21.501249/model-00002-6.42019-0.40000-5.92254-0.49000.h5\n",
      "Epoch 3/10\n",
      "67/67 [==============================] - 38s 569ms/step - loss: 5.8692 - categorical_accuracy: 0.5060 - val_loss: 6.0159 - val_categorical_accuracy: 0.3600\n",
      "\n",
      "Epoch 00003: val_loss did not improve from 5.92254\n",
      "Epoch 4/10\n",
      "67/67 [==============================] - 38s 566ms/step - loss: 5.6167 - categorical_accuracy: 0.5731 - val_loss: 5.4583 - val_categorical_accuracy: 0.6300\n",
      "\n",
      "Epoch 00004: val_loss improved from 5.92254 to 5.45827, saving model to model_init_2020-09-1412_55_21.501249/model-00004-5.61669-0.57313-5.45827-0.63000.h5\n",
      "Epoch 5/10\n",
      "67/67 [==============================] - 39s 581ms/step - loss: 5.4155 - categorical_accuracy: 0.6239 - val_loss: 5.5622 - val_categorical_accuracy: 0.5000\n",
      "\n",
      "Epoch 00005: val_loss did not improve from 5.45827\n",
      "Epoch 6/10\n",
      "67/67 [==============================] - 39s 583ms/step - loss: 5.2221 - categorical_accuracy: 0.6776 - val_loss: 5.1688 - val_categorical_accuracy: 0.6400\n",
      "\n",
      "Epoch 00006: val_loss improved from 5.45827 to 5.16881, saving model to model_init_2020-09-1412_55_21.501249/model-00006-5.22206-0.67761-5.16881-0.64000.h5\n",
      "Epoch 7/10\n",
      "67/67 [==============================] - 39s 583ms/step - loss: 4.9951 - categorical_accuracy: 0.7149 - val_loss: 5.1028 - val_categorical_accuracy: 0.6100\n",
      "\n",
      "Epoch 00007: val_loss improved from 5.16881 to 5.10275, saving model to model_init_2020-09-1412_55_21.501249/model-00007-4.99506-0.71493-5.10275-0.61000.h5\n",
      "Epoch 8/10\n",
      "67/67 [==============================] - 38s 569ms/step - loss: 4.7995 - categorical_accuracy: 0.7373 - val_loss: 5.2644 - val_categorical_accuracy: 0.5500\n",
      "\n",
      "Epoch 00008: val_loss did not improve from 5.10275\n",
      "Epoch 9/10\n",
      "67/67 [==============================] - 38s 571ms/step - loss: 4.5845 - categorical_accuracy: 0.7866 - val_loss: 4.8027 - val_categorical_accuracy: 0.6400\n",
      "\n",
      "Epoch 00009: val_loss improved from 5.10275 to 4.80272, saving model to model_init_2020-09-1412_55_21.501249/model-00009-4.58453-0.78657-4.80272-0.64000.h5\n",
      "Epoch 10/10\n",
      "67/67 [==============================] - 39s 578ms/step - loss: 4.5113 - categorical_accuracy: 0.7687 - val_loss: 4.9688 - val_categorical_accuracy: 0.5700\n",
      "\n",
      "Epoch 00010: val_loss did not improve from 4.80272\n"
     ]
    },
    {
     "data": {
      "text/plain": [
       "<keras.callbacks.History at 0x7f5eda3785f8>"
      ]
     },
     "execution_count": 17,
     "metadata": {},
     "output_type": "execute_result"
    }
   ],
   "source": [
    "\n",
    "history = model.fit_generator(train_generator, steps_per_epoch=steps_per_epoch, epochs=num_epochs, verbose=1, \n",
    "                    callbacks=callbacks_list, validation_data=val_generator, \n",
    "                    validation_steps=validation_steps, class_weight=None, workers=1, initial_epoch=0)"
   ]
  },
  {
   "cell_type": "code",
   "execution_count": null,
   "metadata": {},
   "outputs": [],
   "source": [
    "plot(history)"
   ]
  },
  {
   "cell_type": "code",
   "execution_count": null,
   "metadata": {},
   "outputs": [],
   "source": []
  },
  {
   "cell_type": "code",
   "execution_count": null,
   "metadata": {},
   "outputs": [],
   "source": [
    "df1 = model_result(\"Model_2_Add_HL\",history.history['categorical_accuracy'][-1], history.history['loss'][-1] , history.history['val_categorical_accuracy'][-1], history.history['val_loss'][-1])\n",
    "\n",
    "model_detail_df = pd.concat([model_detail_df,df1])\n",
    "print(model_detail_df.head(20))"
   ]
  },
  {
   "cell_type": "markdown",
   "metadata": {},
   "source": [
    "# <font color = 'red'> 2nd Method: CNN + RNN"
   ]
  },
  {
   "cell_type": "markdown",
   "metadata": {},
   "source": [
    "# <font color = 'blue'> Model 5: CNN + SimpleRNN Network"
   ]
  },
  {
   "cell_type": "code",
   "execution_count": 29,
   "metadata": {},
   "outputs": [],
   "source": [
    "input_shape = (frame, rows, cols, channel_color)"
   ]
  },
  {
   "cell_type": "code",
   "execution_count": 30,
   "metadata": {},
   "outputs": [
    {
     "name": "stdout",
     "output_type": "stream",
     "text": [
      "_________________________________________________________________\n",
      "Layer (type)                 Output Shape              Param #   \n",
      "=================================================================\n",
      "time_distributed_1 (TimeDist (None, 20, 120, 120, 16)  448       \n",
      "_________________________________________________________________\n",
      "time_distributed_2 (TimeDist (None, 20, 120, 120, 16)  64        \n",
      "_________________________________________________________________\n",
      "time_distributed_3 (TimeDist (None, 20, 60, 60, 16)    0         \n",
      "_________________________________________________________________\n",
      "time_distributed_4 (TimeDist (None, 20, 60, 60, 32)    4640      \n",
      "_________________________________________________________________\n",
      "time_distributed_5 (TimeDist (None, 20, 60, 60, 32)    128       \n",
      "_________________________________________________________________\n",
      "time_distributed_6 (TimeDist (None, 20, 30, 30, 32)    0         \n",
      "_________________________________________________________________\n",
      "time_distributed_7 (TimeDist (None, 20, 30, 30, 64)    18496     \n",
      "_________________________________________________________________\n",
      "time_distributed_8 (TimeDist (None, 20, 30, 30, 64)    256       \n",
      "_________________________________________________________________\n",
      "time_distributed_9 (TimeDist (None, 20, 15, 15, 64)    0         \n",
      "_________________________________________________________________\n",
      "time_distributed_10 (TimeDis (None, 20, 15, 15, 128)   73856     \n",
      "_________________________________________________________________\n",
      "time_distributed_11 (TimeDis (None, 20, 15, 15, 128)   512       \n",
      "_________________________________________________________________\n",
      "time_distributed_12 (TimeDis (None, 20, 7, 7, 128)     0         \n",
      "_________________________________________________________________\n",
      "time_distributed_13 (TimeDis (None, 20, 6272)          0         \n",
      "_________________________________________________________________\n",
      "simple_rnn_1 (SimpleRNN)     (None, 256)               1671424   \n",
      "_________________________________________________________________\n",
      "dense_3 (Dense)              (None, 256)               65792     \n",
      "_________________________________________________________________\n",
      "dropout_1 (Dropout)          (None, 256)               0         \n",
      "_________________________________________________________________\n",
      "dense_4 (Dense)              (None, 5)                 1285      \n",
      "=================================================================\n",
      "Total params: 1,836,901\n",
      "Trainable params: 1,836,421\n",
      "Non-trainable params: 480\n",
      "_________________________________________________________________\n",
      "None\n"
     ]
    }
   ],
   "source": [
    "model = Sequential()\n",
    "\n",
    "model.add(TimeDistributed(Conv2D(16, (3, 3) , padding='same', activation='relu'),input_shape = input_shape))\n",
    "model.add(TimeDistributed(BatchNormalization()))\n",
    "model.add(TimeDistributed(MaxPooling2D((2, 2))))\n",
    "\n",
    "model.add(TimeDistributed(Conv2D(32, (3, 3) , padding='same', activation='relu')))\n",
    "model.add(TimeDistributed(BatchNormalization()))\n",
    "model.add(TimeDistributed(MaxPooling2D((2, 2))))\n",
    "\n",
    "model.add(TimeDistributed(Conv2D(64, (3, 3) , padding='same', activation='relu')))\n",
    "model.add(TimeDistributed(BatchNormalization()))\n",
    "model.add(TimeDistributed(MaxPooling2D((2, 2))))\n",
    "\n",
    "model.add(TimeDistributed(Conv2D(128, (3, 3) , padding='same', activation='relu')))\n",
    "model.add(TimeDistributed(BatchNormalization()))\n",
    "model.add(TimeDistributed(MaxPooling2D((2, 2))))\n",
    "\n",
    "model.add(TimeDistributed(Flatten()))\n",
    "\n",
    "\n",
    "model.add(SimpleRNN(256))\n",
    "\n",
    "model.add(Dense(256,activation='relu'))\n",
    "model.add(Dropout(0.3))\n",
    "\n",
    "model.add(Dense(5, activation='softmax'))\n",
    "\n",
    "\n",
    "optimiser = 'adam'\n",
    "model.compile(optimizer=optimiser, loss='categorical_crossentropy', metrics=['categorical_accuracy'])\n",
    "print (model.summary())"
   ]
  },
  {
   "cell_type": "code",
   "execution_count": 31,
   "metadata": {},
   "outputs": [
    {
     "name": "stdout",
     "output_type": "stream",
     "text": [
      "Epoch 1/10\n",
      "67/67 [==============================] - 38s 563ms/step - loss: 1.5927 - categorical_accuracy: 0.3716 - val_loss: 1.3914 - val_categorical_accuracy: 0.3700\n",
      "\n",
      "Epoch 00001: val_loss improved from 13.21684 to 1.39136, saving model to model_init_2020-09-1415_34_58.030609/model-00001-1.59269-0.37164-1.39136-0.37000.h5\n",
      "Epoch 2/10\n",
      "67/67 [==============================] - 35s 519ms/step - loss: 1.2338 - categorical_accuracy: 0.5179 - val_loss: 1.2658 - val_categorical_accuracy: 0.4700\n",
      "\n",
      "Epoch 00002: val_loss improved from 1.39136 to 1.26578, saving model to model_init_2020-09-1415_34_58.030609/model-00002-1.23383-0.51791-1.26578-0.47000.h5\n",
      "Epoch 3/10\n",
      "67/67 [==============================] - 37s 546ms/step - loss: 1.0155 - categorical_accuracy: 0.5851 - val_loss: 1.1739 - val_categorical_accuracy: 0.5900\n",
      "\n",
      "Epoch 00003: val_loss improved from 1.26578 to 1.17394, saving model to model_init_2020-09-1415_34_58.030609/model-00003-1.01552-0.58507-1.17394-0.59000.h5\n",
      "Epoch 4/10\n",
      "67/67 [==============================] - 35s 525ms/step - loss: 0.8925 - categorical_accuracy: 0.6672 - val_loss: 1.1273 - val_categorical_accuracy: 0.5400\n",
      "\n",
      "Epoch 00004: val_loss improved from 1.17394 to 1.12729, saving model to model_init_2020-09-1415_34_58.030609/model-00004-0.89248-0.66716-1.12729-0.54000.h5\n",
      "Epoch 5/10\n",
      "67/67 [==============================] - 36s 532ms/step - loss: 0.8446 - categorical_accuracy: 0.6716 - val_loss: 1.1458 - val_categorical_accuracy: 0.5100\n",
      "\n",
      "Epoch 00005: val_loss did not improve from 1.12729\n",
      "Epoch 6/10\n",
      "67/67 [==============================] - 37s 550ms/step - loss: 0.7336 - categorical_accuracy: 0.7224 - val_loss: 0.9544 - val_categorical_accuracy: 0.5800\n",
      "\n",
      "Epoch 00006: val_loss improved from 1.12729 to 0.95444, saving model to model_init_2020-09-1415_34_58.030609/model-00006-0.73360-0.72239-0.95444-0.58000.h5\n",
      "Epoch 7/10\n",
      "67/67 [==============================] - 36s 532ms/step - loss: 0.6854 - categorical_accuracy: 0.7254 - val_loss: 1.0424 - val_categorical_accuracy: 0.6300\n",
      "\n",
      "Epoch 00007: val_loss did not improve from 0.95444\n",
      "Epoch 8/10\n",
      "67/67 [==============================] - 38s 561ms/step - loss: 0.5765 - categorical_accuracy: 0.7642 - val_loss: 1.4311 - val_categorical_accuracy: 0.5000\n",
      "\n",
      "Epoch 00008: val_loss did not improve from 0.95444\n",
      "\n",
      "Epoch 00008: ReduceLROnPlateau reducing learning rate to 0.00010000000474974513.\n",
      "Epoch 9/10\n",
      "67/67 [==============================] - 37s 546ms/step - loss: 0.5093 - categorical_accuracy: 0.8179 - val_loss: 0.9629 - val_categorical_accuracy: 0.6400\n",
      "\n",
      "Epoch 00009: val_loss did not improve from 0.95444\n",
      "Epoch 10/10\n",
      "67/67 [==============================] - 37s 546ms/step - loss: 0.4179 - categorical_accuracy: 0.8507 - val_loss: 0.8131 - val_categorical_accuracy: 0.7200\n",
      "\n",
      "Epoch 00010: val_loss improved from 0.95444 to 0.81305, saving model to model_init_2020-09-1415_34_58.030609/model-00010-0.41789-0.85075-0.81305-0.72000.h5\n"
     ]
    }
   ],
   "source": [
    "history = model.fit_generator(train_generator, steps_per_epoch=steps_per_epoch, epochs=num_epochs, verbose=1, \n",
    "                    callbacks=callbacks_list, validation_data=val_generator, \n",
    "                    validation_steps=validation_steps, class_weight=None, workers=1, initial_epoch=0)"
   ]
  },
  {
   "cell_type": "code",
   "execution_count": 32,
   "metadata": {},
   "outputs": [
    {
     "data": {
      "image/png": "[encoded data removed]",
      "text/plain": [
       "<Figure size 1080x288 with 2 Axes>"
      ]
     },
     "metadata": {},
     "output_type": "display_data"
    }
   ],
   "source": [
    "plot(history)"
   ]
  },
  {
   "cell_type": "code",
   "execution_count": null,
   "metadata": {},
   "outputs": [],
   "source": []
  },
  {
   "cell_type": "code",
   "execution_count": 34,
   "metadata": {
    "scrolled": true
   },
   "outputs": [
    {
     "name": "stdout",
     "output_type": "stream",
     "text": [
      "   Model Accuracy   Model Loss             Model Name  Val Accuracy  \\\n",
      "0       21.044777  1287.041966        Model_1_Vanilla          17.0   \n",
      "0       85.074626    41.789013  Model_5_CNN_SimpleRNN          72.0   \n",
      "0       85.074626    41.789013        Model_5_CNN_RNN          72.0   \n",
      "\n",
      "      Val Loss  \n",
      "0  1332.210426  \n",
      "0    81.305320  \n",
      "0    81.305320  \n"
     ]
    }
   ],
   "source": [
    "df1 = model_result(\"Model_5_CNN_RNN\",history.history['categorical_accuracy'][-1], history.history['loss'][-1] , history.history['val_categorical_accuracy'][-1], history.history['val_loss'][-1])\n",
    "\n",
    "model_detail_df = pd.concat([model_detail_df,df1])\n",
    "print(model_detail_df.head(20))"
   ]
  },
  {
   "cell_type": "code",
   "execution_count": null,
   "metadata": {},
   "outputs": [],
   "source": [
    "print(model_detail_df.head(20))"
   ]
  },
  {
   "cell_type": "markdown",
   "metadata": {},
   "source": [
    "# <font color = 'blue'> Model 6: CNN + SimpleRNN Network(Added more cells, Added Dropout in HL)"
   ]
  },
  {
   "cell_type": "code",
   "execution_count": 35,
   "metadata": {},
   "outputs": [
    {
     "name": "stdout",
     "output_type": "stream",
     "text": [
      "_________________________________________________________________\n",
      "Layer (type)                 Output Shape              Param #   \n",
      "=================================================================\n",
      "time_distributed_14 (TimeDis (None, 20, 120, 120, 32)  896       \n",
      "_________________________________________________________________\n",
      "time_distributed_15 (TimeDis (None, 20, 120, 120, 32)  128       \n",
      "_________________________________________________________________\n",
      "time_distributed_16 (TimeDis (None, 20, 60, 60, 32)    0         \n",
      "_________________________________________________________________\n",
      "time_distributed_17 (TimeDis (None, 20, 60, 60, 64)    18496     \n",
      "_________________________________________________________________\n",
      "time_distributed_18 (TimeDis (None, 20, 60, 60, 64)    256       \n",
      "_________________________________________________________________\n",
      "time_distributed_19 (TimeDis (None, 20, 30, 30, 64)    0         \n",
      "_________________________________________________________________\n",
      "dropout_2 (Dropout)          (None, 20, 30, 30, 64)    0         \n",
      "_________________________________________________________________\n",
      "time_distributed_20 (TimeDis (None, 20, 30, 30, 64)    36928     \n",
      "_________________________________________________________________\n",
      "time_distributed_21 (TimeDis (None, 20, 30, 30, 64)    256       \n",
      "_________________________________________________________________\n",
      "time_distributed_22 (TimeDis (None, 20, 15, 15, 64)    0         \n",
      "_________________________________________________________________\n",
      "dropout_3 (Dropout)          (None, 20, 15, 15, 64)    0         \n",
      "_________________________________________________________________\n",
      "time_distributed_23 (TimeDis (None, 20, 15, 15, 128)   73856     \n",
      "_________________________________________________________________\n",
      "time_distributed_24 (TimeDis (None, 20, 15, 15, 128)   512       \n",
      "_________________________________________________________________\n",
      "time_distributed_25 (TimeDis (None, 20, 7, 7, 128)     0         \n",
      "_________________________________________________________________\n",
      "dropout_4 (Dropout)          (None, 20, 7, 7, 128)     0         \n",
      "_________________________________________________________________\n",
      "time_distributed_26 (TimeDis (None, 20, 6272)          0         \n",
      "_________________________________________________________________\n",
      "simple_rnn_2 (SimpleRNN)     (None, 512)               3473920   \n",
      "_________________________________________________________________\n",
      "dense_5 (Dense)              (None, 512)               262656    \n",
      "_________________________________________________________________\n",
      "dropout_5 (Dropout)          (None, 512)               0         \n",
      "_________________________________________________________________\n",
      "dense_6 (Dense)              (None, 5)                 2565      \n",
      "=================================================================\n",
      "Total params: 3,870,469\n",
      "Trainable params: 3,869,893\n",
      "Non-trainable params: 576\n",
      "_________________________________________________________________\n",
      "None\n"
     ]
    }
   ],
   "source": [
    "model = Sequential()\n",
    "\n",
    "model.add(TimeDistributed(Conv2D(32, (3, 3) , padding='same', activation='relu'),input_shape = input_shape))\n",
    "model.add(TimeDistributed(BatchNormalization()))\n",
    "model.add(TimeDistributed(MaxPooling2D((2, 2))))\n",
    "\n",
    "model.add(TimeDistributed(Conv2D(64, (3, 3) , padding='same', activation='relu')))\n",
    "model.add(TimeDistributed(BatchNormalization()))\n",
    "model.add(TimeDistributed(MaxPooling2D((2, 2))))\n",
    "model.add(Dropout(0.2))\n",
    "\n",
    "\n",
    "model.add(TimeDistributed(Conv2D(64, (3, 3) , padding='same', activation='relu')))\n",
    "model.add(TimeDistributed(BatchNormalization()))\n",
    "model.add(TimeDistributed(MaxPooling2D((2, 2))))\n",
    "model.add(Dropout(0.2))\n",
    "\n",
    "model.add(TimeDistributed(Conv2D(128, (3, 3) , padding='same', activation='relu')))\n",
    "model.add(TimeDistributed(BatchNormalization()))\n",
    "model.add(TimeDistributed(MaxPooling2D((2, 2))))\n",
    "model.add(Dropout(0.2))\n",
    "\n",
    "model.add(TimeDistributed(Flatten()))\n",
    "\n",
    "\n",
    "model.add(SimpleRNN(512))\n",
    "\n",
    "model.add(Dense(512,activation='relu'))\n",
    "model.add(Dropout(0.3))\n",
    "\n",
    "model.add(Dense(5, activation='softmax'))\n",
    "\n",
    "\n",
    "optimiser = 'adam'\n",
    "model.compile(optimizer=optimiser, loss='categorical_crossentropy', metrics=['categorical_accuracy'])\n",
    "print (model.summary())"
   ]
  },
  {
   "cell_type": "code",
   "execution_count": 36,
   "metadata": {},
   "outputs": [
    {
     "name": "stdout",
     "output_type": "stream",
     "text": [
      "Epoch 1/10\n",
      "67/67 [==============================] - 39s 588ms/step - loss: 1.5964 - categorical_accuracy: 0.3627 - val_loss: 1.4810 - val_categorical_accuracy: 0.3700\n",
      "\n",
      "Epoch 00001: val_loss did not improve from 0.81305\n",
      "Epoch 2/10\n",
      "67/67 [==============================] - 37s 546ms/step - loss: 1.2476 - categorical_accuracy: 0.4731 - val_loss: 1.0363 - val_categorical_accuracy: 0.5300\n",
      "\n",
      "Epoch 00002: val_loss did not improve from 0.81305\n",
      "Epoch 3/10\n",
      "67/67 [==============================] - 37s 547ms/step - loss: 1.0708 - categorical_accuracy: 0.5537 - val_loss: 1.0851 - val_categorical_accuracy: 0.5200\n",
      "\n",
      "Epoch 00003: val_loss did not improve from 0.81305\n",
      "Epoch 4/10\n",
      "67/67 [==============================] - 37s 545ms/step - loss: 1.0296 - categorical_accuracy: 0.5851 - val_loss: 1.0461 - val_categorical_accuracy: 0.6100\n",
      "\n",
      "Epoch 00004: val_loss did not improve from 0.81305\n",
      "\n",
      "Epoch 00004: ReduceLROnPlateau reducing learning rate to 0.00010000000474974513.\n",
      "Epoch 5/10\n",
      "67/67 [==============================] - 36s 543ms/step - loss: 0.8049 - categorical_accuracy: 0.6925 - val_loss: 0.7890 - val_categorical_accuracy: 0.7300\n",
      "\n",
      "Epoch 00005: val_loss improved from 0.81305 to 0.78898, saving model to model_init_2020-09-1415_34_58.030609/model-00005-0.80486-0.69254-0.78898-0.73000.h5\n",
      "Epoch 6/10\n",
      "67/67 [==============================] - 36s 537ms/step - loss: 0.6615 - categorical_accuracy: 0.7358 - val_loss: 0.8710 - val_categorical_accuracy: 0.6300\n",
      "\n",
      "Epoch 00006: val_loss did not improve from 0.78898\n",
      "Epoch 7/10\n",
      "67/67 [==============================] - 37s 550ms/step - loss: 0.5966 - categorical_accuracy: 0.7701 - val_loss: 0.7104 - val_categorical_accuracy: 0.7300\n",
      "\n",
      "Epoch 00007: val_loss improved from 0.78898 to 0.71041, saving model to model_init_2020-09-1415_34_58.030609/model-00007-0.59656-0.77015-0.71041-0.73000.h5\n",
      "Epoch 8/10\n",
      "67/67 [==============================] - 38s 562ms/step - loss: 0.5039 - categorical_accuracy: 0.8209 - val_loss: 0.7979 - val_categorical_accuracy: 0.7400\n",
      "\n",
      "Epoch 00008: val_loss did not improve from 0.71041\n",
      "Epoch 9/10\n",
      "67/67 [==============================] - 36s 543ms/step - loss: 0.5087 - categorical_accuracy: 0.8373 - val_loss: 0.7778 - val_categorical_accuracy: 0.7100\n",
      "\n",
      "Epoch 00009: val_loss did not improve from 0.71041\n",
      "\n",
      "Epoch 00009: ReduceLROnPlateau reducing learning rate to 1.0000000474974514e-05.\n",
      "Epoch 10/10\n",
      "67/67 [==============================] - 36s 540ms/step - loss: 0.4515 - categorical_accuracy: 0.8493 - val_loss: 0.7193 - val_categorical_accuracy: 0.6800\n",
      "\n",
      "Epoch 00010: val_loss did not improve from 0.71041\n"
     ]
    }
   ],
   "source": [
    "history = model.fit_generator(train_generator, steps_per_epoch=steps_per_epoch, epochs=num_epochs, verbose=1, \n",
    "                    callbacks=callbacks_list, validation_data=val_generator, \n",
    "                    validation_steps=validation_steps, class_weight=None, workers=1, initial_epoch=0)"
   ]
  },
  {
   "cell_type": "code",
   "execution_count": null,
   "metadata": {},
   "outputs": [],
   "source": []
  },
  {
   "cell_type": "code",
   "execution_count": 37,
   "metadata": {},
   "outputs": [
    {
     "data": {
      "image/png": "[encoded data removed]",
      "text/plain": [
       "<Figure size 1080x288 with 2 Axes>"
      ]
     },
     "metadata": {},
     "output_type": "display_data"
    }
   ],
   "source": [
    "plot(history)"
   ]
  },
  {
   "cell_type": "code",
   "execution_count": 38,
   "metadata": {},
   "outputs": [
    {
     "name": "stdout",
     "output_type": "stream",
     "text": [
      "   Model Accuracy   Model Loss                  Model Name  Val Accuracy  \\\n",
      "0       21.044777  1287.041966             Model_1_Vanilla          17.0   \n",
      "0       85.074626    41.789013       Model_5_CNN_SimpleRNN          72.0   \n",
      "0       85.074626    41.789013             Model_5_CNN_RNN          72.0   \n",
      "0       84.925373    45.148897  Model_6_CNN_RNN_Add_Tuning          68.0   \n",
      "\n",
      "      Val Loss  \n",
      "0  1332.210426  \n",
      "0    81.305320  \n",
      "0    81.305320  \n",
      "0    71.925250  \n"
     ]
    }
   ],
   "source": [
    "df1 = model_result(\"Model_6_CNN_RNN_Add_Tuning\",history.history['categorical_accuracy'][-1], history.history['loss'][-1] , history.history['val_categorical_accuracy'][-1], history.history['val_loss'][-1])\n",
    "\n",
    "model_detail_df = pd.concat([model_detail_df,df1])\n",
    "print(model_detail_df.head(20))"
   ]
  },
  {
   "cell_type": "code",
   "execution_count": null,
   "metadata": {},
   "outputs": [],
   "source": []
  },
  {
   "cell_type": "markdown",
   "metadata": {},
   "source": [
    "# <font color = 'blue'> Model 7: CNN + LSTM Network()"
   ]
  },
  {
   "cell_type": "code",
   "execution_count": 39,
   "metadata": {},
   "outputs": [
    {
     "name": "stdout",
     "output_type": "stream",
     "text": [
      "_________________________________________________________________\n",
      "Layer (type)                 Output Shape              Param #   \n",
      "=================================================================\n",
      "time_distributed_27 (TimeDis (None, 20, 120, 120, 16)  448       \n",
      "_________________________________________________________________\n",
      "time_distributed_28 (TimeDis (None, 20, 120, 120, 16)  64        \n",
      "_________________________________________________________________\n",
      "time_distributed_29 (TimeDis (None, 20, 60, 60, 16)    0         \n",
      "_________________________________________________________________\n",
      "time_distributed_30 (TimeDis (None, 20, 60, 60, 32)    4640      \n",
      "_________________________________________________________________\n",
      "time_distributed_31 (TimeDis (None, 20, 60, 60, 32)    128       \n",
      "_________________________________________________________________\n",
      "time_distributed_32 (TimeDis (None, 20, 30, 30, 32)    0         \n",
      "_________________________________________________________________\n",
      "time_distributed_33 (TimeDis (None, 20, 30, 30, 64)    18496     \n",
      "_________________________________________________________________\n",
      "time_distributed_34 (TimeDis (None, 20, 30, 30, 64)    256       \n",
      "_________________________________________________________________\n",
      "time_distributed_35 (TimeDis (None, 20, 15, 15, 64)    0         \n",
      "_________________________________________________________________\n",
      "time_distributed_36 (TimeDis (None, 20, 15, 15, 128)   73856     \n",
      "_________________________________________________________________\n",
      "time_distributed_37 (TimeDis (None, 20, 15, 15, 128)   512       \n",
      "_________________________________________________________________\n",
      "time_distributed_38 (TimeDis (None, 20, 7, 7, 128)     0         \n",
      "_________________________________________________________________\n",
      "time_distributed_39 (TimeDis (None, 20, 6272)          0         \n",
      "_________________________________________________________________\n",
      "lstm_1 (LSTM)                (None, 128)               3277312   \n",
      "_________________________________________________________________\n",
      "dense_7 (Dense)              (None, 128)               16512     \n",
      "_________________________________________________________________\n",
      "dropout_6 (Dropout)          (None, 128)               0         \n",
      "_________________________________________________________________\n",
      "dense_8 (Dense)              (None, 5)                 645       \n",
      "=================================================================\n",
      "Total params: 3,392,869\n",
      "Trainable params: 3,392,389\n",
      "Non-trainable params: 480\n",
      "_________________________________________________________________\n",
      "None\n"
     ]
    }
   ],
   "source": [
    "model = Sequential()\n",
    "\n",
    "model.add(TimeDistributed(Conv2D(16, (3, 3) , padding='same', activation='relu'),input_shape = input_shape))\n",
    "model.add(TimeDistributed(BatchNormalization()))\n",
    "model.add(TimeDistributed(MaxPooling2D((2, 2))))\n",
    "\n",
    "model.add(TimeDistributed(Conv2D(32, (3, 3) , padding='same', activation='relu')))\n",
    "model.add(TimeDistributed(BatchNormalization()))\n",
    "model.add(TimeDistributed(MaxPooling2D((2, 2))))\n",
    "\n",
    "model.add(TimeDistributed(Conv2D(64, (3, 3) , padding='same', activation='relu')))\n",
    "model.add(TimeDistributed(BatchNormalization()))\n",
    "model.add(TimeDistributed(MaxPooling2D((2, 2))))\n",
    "\n",
    "model.add(TimeDistributed(Conv2D(128, (3, 3) , padding='same', activation='relu')))\n",
    "model.add(TimeDistributed(BatchNormalization()))\n",
    "model.add(TimeDistributed(MaxPooling2D((2, 2))))\n",
    "\n",
    "model.add(TimeDistributed(Flatten()))\n",
    "\n",
    "\n",
    "model.add(LSTM(128))\n",
    "\n",
    "model.add(Dense(128,activation='relu'))\n",
    "model.add(Dropout(0.3))\n",
    "\n",
    "model.add(Dense(5, activation='softmax'))\n",
    "\n",
    "\n",
    "optimiser = 'adam'\n",
    "model.compile(optimizer=optimiser, loss='categorical_crossentropy', metrics=['categorical_accuracy'])\n",
    "print (model.summary())"
   ]
  },
  {
   "cell_type": "code",
   "execution_count": 41,
   "metadata": {},
   "outputs": [
    {
     "name": "stdout",
     "output_type": "stream",
     "text": [
      "Epoch 1/10\n",
      "67/67 [==============================] - 38s 564ms/step - loss: 1.4170 - categorical_accuracy: 0.3821 - val_loss: 1.4251 - val_categorical_accuracy: 0.3900\n",
      "\n",
      "Epoch 00001: val_loss did not improve from 0.71041\n",
      "Epoch 2/10\n",
      "67/67 [==============================] - 35s 528ms/step - loss: 1.1572 - categorical_accuracy: 0.5478 - val_loss: 1.2939 - val_categorical_accuracy: 0.4500\n",
      "\n",
      "Epoch 00002: val_loss did not improve from 0.71041\n",
      "Epoch 3/10\n",
      "67/67 [==============================] - 35s 526ms/step - loss: 1.1030 - categorical_accuracy: 0.5507 - val_loss: 1.2588 - val_categorical_accuracy: 0.4700\n",
      "\n",
      "Epoch 00003: val_loss did not improve from 0.71041\n",
      "Epoch 4/10\n",
      "67/67 [==============================] - 37s 547ms/step - loss: 1.0135 - categorical_accuracy: 0.6045 - val_loss: 1.2761 - val_categorical_accuracy: 0.5400\n",
      "\n",
      "Epoch 00004: val_loss did not improve from 0.71041\n",
      "Epoch 5/10\n",
      "67/67 [==============================] - 37s 546ms/step - loss: 0.8708 - categorical_accuracy: 0.6612 - val_loss: 1.8927 - val_categorical_accuracy: 0.3700\n",
      "\n",
      "Epoch 00005: val_loss did not improve from 0.71041\n",
      "\n",
      "Epoch 00005: ReduceLROnPlateau reducing learning rate to 0.00010000000474974513.\n",
      "Epoch 6/10\n",
      "67/67 [==============================] - 36s 544ms/step - loss: 0.7315 - categorical_accuracy: 0.7179 - val_loss: 1.0068 - val_categorical_accuracy: 0.6100\n",
      "\n",
      "Epoch 00006: val_loss did not improve from 0.71041\n",
      "Epoch 7/10\n",
      "67/67 [==============================] - 36s 542ms/step - loss: 0.6057 - categorical_accuracy: 0.7940 - val_loss: 0.9220 - val_categorical_accuracy: 0.7200\n",
      "\n",
      "Epoch 00007: val_loss did not improve from 0.71041\n",
      "Epoch 8/10\n",
      "67/67 [==============================] - 37s 552ms/step - loss: 0.6006 - categorical_accuracy: 0.7701 - val_loss: 0.8592 - val_categorical_accuracy: 0.6300\n",
      "\n",
      "Epoch 00008: val_loss did not improve from 0.71041\n",
      "Epoch 9/10\n",
      "67/67 [==============================] - 36s 543ms/step - loss: 0.5347 - categorical_accuracy: 0.8313 - val_loss: 0.8862 - val_categorical_accuracy: 0.6500\n",
      "\n",
      "Epoch 00009: val_loss did not improve from 0.71041\n",
      "Epoch 10/10\n",
      "67/67 [==============================] - 36s 540ms/step - loss: 0.4574 - categorical_accuracy: 0.8433 - val_loss: 0.7924 - val_categorical_accuracy: 0.6700\n",
      "\n",
      "Epoch 00010: val_loss did not improve from 0.71041\n"
     ]
    }
   ],
   "source": [
    "history = model.fit_generator(train_generator, steps_per_epoch=steps_per_epoch, epochs=num_epochs, verbose=1, \n",
    "                    callbacks=callbacks_list, validation_data=val_generator, \n",
    "                    validation_steps=validation_steps, class_weight=None, workers=1, initial_epoch=0)"
   ]
  },
  {
   "cell_type": "code",
   "execution_count": null,
   "metadata": {},
   "outputs": [],
   "source": []
  },
  {
   "cell_type": "code",
   "execution_count": 42,
   "metadata": {},
   "outputs": [
    {
     "data": {
      "image/png": "[encoded data removed]",
      "text/plain": [
       "<Figure size 1080x288 with 2 Axes>"
      ]
     },
     "metadata": {},
     "output_type": "display_data"
    }
   ],
   "source": [
    "plot(history)"
   ]
  },
  {
   "cell_type": "code",
   "execution_count": 43,
   "metadata": {},
   "outputs": [
    {
     "name": "stdout",
     "output_type": "stream",
     "text": [
      "   Model Accuracy   Model Loss                  Model Name  Val Accuracy  \\\n",
      "0       21.044777  1287.041966             Model_1_Vanilla          17.0   \n",
      "0       85.074626    41.789013       Model_5_CNN_SimpleRNN          72.0   \n",
      "0       85.074626    41.789013             Model_5_CNN_RNN          72.0   \n",
      "0       84.925373    45.148897  Model_6_CNN_RNN_Add_Tuning          68.0   \n",
      "0       84.328357    45.736756            Model_7_CNN_LSTM          67.0   \n",
      "\n",
      "      Val Loss  \n",
      "0  1332.210426  \n",
      "0    81.305320  \n",
      "0    81.305320  \n",
      "0    71.925250  \n",
      "0    79.238954  \n"
     ]
    }
   ],
   "source": [
    "df1 = model_result(\"Model_7_CNN_LSTM\",history.history['categorical_accuracy'][-1], history.history['loss'][-1] , history.history['val_categorical_accuracy'][-1], history.history['val_loss'][-1])\n",
    "\n",
    "model_detail_df = pd.concat([model_detail_df,df1])\n",
    "print(model_detail_df.head(20))"
   ]
  },
  {
   "cell_type": "markdown",
   "metadata": {},
   "source": [
    "# <font color = 'blue'> Model 8: CNN + LSTM Network(Added more cells, Removed Hidden Layer, Added Dropout)"
   ]
  },
  {
   "cell_type": "code",
   "execution_count": 47,
   "metadata": {},
   "outputs": [
    {
     "name": "stdout",
     "output_type": "stream",
     "text": [
      "_________________________________________________________________\n",
      "Layer (type)                 Output Shape              Param #   \n",
      "=================================================================\n",
      "time_distributed_49 (TimeDis (None, 20, 120, 120, 32)  896       \n",
      "_________________________________________________________________\n",
      "time_distributed_50 (TimeDis (None, 20, 120, 120, 32)  128       \n",
      "_________________________________________________________________\n",
      "time_distributed_51 (TimeDis (None, 20, 60, 60, 32)    0         \n",
      "_________________________________________________________________\n",
      "time_distributed_52 (TimeDis (None, 20, 60, 60, 64)    18496     \n",
      "_________________________________________________________________\n",
      "time_distributed_53 (TimeDis (None, 20, 60, 60, 64)    256       \n",
      "_________________________________________________________________\n",
      "time_distributed_54 (TimeDis (None, 20, 30, 30, 64)    0         \n",
      "_________________________________________________________________\n",
      "dropout_9 (Dropout)          (None, 20, 30, 30, 64)    0         \n",
      "_________________________________________________________________\n",
      "time_distributed_55 (TimeDis (None, 20, 30, 30, 128)   73856     \n",
      "_________________________________________________________________\n",
      "time_distributed_56 (TimeDis (None, 20, 30, 30, 128)   512       \n",
      "_________________________________________________________________\n",
      "time_distributed_57 (TimeDis (None, 20, 15, 15, 128)   0         \n",
      "_________________________________________________________________\n",
      "dropout_10 (Dropout)         (None, 20, 15, 15, 128)   0         \n",
      "_________________________________________________________________\n",
      "time_distributed_58 (TimeDis (None, 20, 28800)         0         \n",
      "_________________________________________________________________\n",
      "lstm_2 (LSTM)                (None, 512)               60033024  \n",
      "_________________________________________________________________\n",
      "dense_9 (Dense)              (None, 512)               262656    \n",
      "_________________________________________________________________\n",
      "dropout_11 (Dropout)         (None, 512)               0         \n",
      "_________________________________________________________________\n",
      "dense_10 (Dense)             (None, 5)                 2565      \n",
      "=================================================================\n",
      "Total params: 60,392,389\n",
      "Trainable params: 60,391,941\n",
      "Non-trainable params: 448\n",
      "_________________________________________________________________\n",
      "None\n"
     ]
    }
   ],
   "source": [
    "model = Sequential()\n",
    "\n",
    "model.add(TimeDistributed(Conv2D(32, (3, 3) , padding='same', activation='relu'),input_shape = input_shape))\n",
    "model.add(TimeDistributed(BatchNormalization()))\n",
    "model.add(TimeDistributed(MaxPooling2D((2, 2))))\n",
    "\n",
    "model.add(TimeDistributed(Conv2D(64, (3, 3) , padding='same', activation='relu')))\n",
    "model.add(TimeDistributed(BatchNormalization()))\n",
    "model.add(TimeDistributed(MaxPooling2D((2, 2))))\n",
    "model.add(Dropout(0.3))\n",
    "\n",
    "\n",
    "model.add(TimeDistributed(Conv2D(128, (3, 3) , padding='same', activation='relu')))\n",
    "model.add(TimeDistributed(BatchNormalization()))\n",
    "model.add(TimeDistributed(MaxPooling2D((2, 2))))\n",
    "model.add(Dropout(0.3))\n",
    "\n",
    "model.add(TimeDistributed(Flatten()))\n",
    "\n",
    "\n",
    "model.add(LSTM(512))\n",
    "\n",
    "model.add(Dense(512,activation='relu'))\n",
    "model.add(Dropout(0.3))\n",
    "\n",
    "model.add(Dense(5, activation='softmax'))\n",
    "\n",
    "\n",
    "optimiser = 'adam'\n",
    "model.compile(optimizer=optimiser, loss='categorical_crossentropy', metrics=['categorical_accuracy'])\n",
    "print (model.summary())"
   ]
  },
  {
   "cell_type": "code",
   "execution_count": 48,
   "metadata": {},
   "outputs": [
    {
     "name": "stdout",
     "output_type": "stream",
     "text": [
      "Epoch 1/10\n",
      "67/67 [==============================] - 71s 1s/step - loss: 1.6412 - categorical_accuracy: 0.2731 - val_loss: 1.6003 - val_categorical_accuracy: 0.2200\n",
      "\n",
      "Epoch 00001: val_loss did not improve from 0.71041\n",
      "Epoch 2/10\n",
      "67/67 [==============================] - 59s 885ms/step - loss: 1.3174 - categorical_accuracy: 0.4537 - val_loss: 2.0596 - val_categorical_accuracy: 0.2700\n",
      "\n",
      "Epoch 00002: val_loss did not improve from 0.71041\n",
      "Epoch 3/10\n",
      "67/67 [==============================] - 59s 885ms/step - loss: 1.2307 - categorical_accuracy: 0.5060 - val_loss: 1.5622 - val_categorical_accuracy: 0.4300\n",
      "\n",
      "Epoch 00003: val_loss did not improve from 0.71041\n",
      "Epoch 4/10\n",
      "67/67 [==============================] - 59s 886ms/step - loss: 1.1329 - categorical_accuracy: 0.5313 - val_loss: 1.9120 - val_categorical_accuracy: 0.3300\n",
      "\n",
      "Epoch 00004: val_loss did not improve from 0.71041\n",
      "Epoch 5/10\n",
      "67/67 [==============================] - 59s 886ms/step - loss: 1.0285 - categorical_accuracy: 0.5687 - val_loss: 1.7268 - val_categorical_accuracy: 0.4300\n",
      "\n",
      "Epoch 00005: val_loss did not improve from 0.71041\n",
      "\n",
      "Epoch 00005: ReduceLROnPlateau reducing learning rate to 0.00010000000474974513.\n",
      "Epoch 6/10\n",
      "67/67 [==============================] - 59s 885ms/step - loss: 0.9152 - categorical_accuracy: 0.6284 - val_loss: 1.1654 - val_categorical_accuracy: 0.5500\n",
      "\n",
      "Epoch 00006: val_loss did not improve from 0.71041\n",
      "Epoch 7/10\n",
      "67/67 [==============================] - 59s 886ms/step - loss: 0.8044 - categorical_accuracy: 0.7164 - val_loss: 0.9363 - val_categorical_accuracy: 0.6300\n",
      "\n",
      "Epoch 00007: val_loss did not improve from 0.71041\n",
      "Epoch 8/10\n",
      "67/67 [==============================] - 59s 886ms/step - loss: 0.6737 - categorical_accuracy: 0.7612 - val_loss: 1.0159 - val_categorical_accuracy: 0.6400\n",
      "\n",
      "Epoch 00008: val_loss did not improve from 0.71041\n",
      "Epoch 9/10\n",
      "67/67 [==============================] - 59s 885ms/step - loss: 0.6480 - categorical_accuracy: 0.7940 - val_loss: 0.8499 - val_categorical_accuracy: 0.6700\n",
      "\n",
      "Epoch 00009: val_loss did not improve from 0.71041\n",
      "Epoch 10/10\n",
      "67/67 [==============================] - 59s 885ms/step - loss: 0.6201 - categorical_accuracy: 0.7806 - val_loss: 0.9598 - val_categorical_accuracy: 0.6100\n",
      "\n",
      "Epoch 00010: val_loss did not improve from 0.71041\n"
     ]
    }
   ],
   "source": [
    "history = model.fit_generator(train_generator, steps_per_epoch=steps_per_epoch, epochs=num_epochs, verbose=1, \n",
    "                    callbacks=callbacks_list, validation_data=val_generator, \n",
    "                    validation_steps=validation_steps, class_weight=None, workers=1, initial_epoch=0)"
   ]
  },
  {
   "cell_type": "code",
   "execution_count": 49,
   "metadata": {},
   "outputs": [
    {
     "data": {
      "image/png": "[encoded data removed]",
      "text/plain": [
       "<Figure size 1080x288 with 2 Axes>"
      ]
     },
     "metadata": {},
     "output_type": "display_data"
    }
   ],
   "source": [
    "plot(history)"
   ]
  },
  {
   "cell_type": "code",
   "execution_count": null,
   "metadata": {},
   "outputs": [],
   "source": []
  },
  {
   "cell_type": "code",
   "execution_count": 50,
   "metadata": {},
   "outputs": [
    {
     "name": "stdout",
     "output_type": "stream",
     "text": [
      "   Model Accuracy   Model Loss                  Model Name  Val Accuracy  \\\n",
      "0       21.044777  1287.041966             Model_1_Vanilla     17.000000   \n",
      "0       85.074626    41.789013       Model_5_CNN_SimpleRNN     72.000000   \n",
      "0       85.074626    41.789013             Model_5_CNN_RNN     72.000000   \n",
      "0       84.925373    45.148897  Model_6_CNN_RNN_Add_Tuning     68.000000   \n",
      "0       84.328357    45.736756            Model_7_CNN_LSTM     67.000000   \n",
      "0       78.059702    62.010612       Model_8_CNN_LSTM_Tune     61.000001   \n",
      "\n",
      "      Val Loss  \n",
      "0  1332.210426  \n",
      "0    81.305320  \n",
      "0    81.305320  \n",
      "0    71.925250  \n",
      "0    79.238954  \n",
      "0    95.976012  \n"
     ]
    }
   ],
   "source": [
    "df1 = model_result( \"Model_8_CNN_LSTM_Tune\", history.history['categorical_accuracy'][-1], history.history['loss'][-1] , history.history['val_categorical_accuracy'][-1], history.history['val_loss'][-1])\n",
    "\n",
    "model_detail_df = pd.concat([model_detail_df,df1])\n",
    "print(model_detail_df.head(20))"
   ]
  },
  {
   "cell_type": "markdown",
   "metadata": {},
   "source": [
    "# <font color = 'blue'> Model 9 : CNN + GRU Network "
   ]
  },
  {
   "cell_type": "code",
   "execution_count": 51,
   "metadata": {},
   "outputs": [
    {
     "name": "stdout",
     "output_type": "stream",
     "text": [
      "_________________________________________________________________\n",
      "Layer (type)                 Output Shape              Param #   \n",
      "=================================================================\n",
      "time_distributed_59 (TimeDis (None, 20, 120, 120, 16)  448       \n",
      "_________________________________________________________________\n",
      "time_distributed_60 (TimeDis (None, 20, 120, 120, 16)  64        \n",
      "_________________________________________________________________\n",
      "time_distributed_61 (TimeDis (None, 20, 60, 60, 16)    0         \n",
      "_________________________________________________________________\n",
      "time_distributed_62 (TimeDis (None, 20, 60, 60, 32)    4640      \n",
      "_________________________________________________________________\n",
      "time_distributed_63 (TimeDis (None, 20, 60, 60, 32)    128       \n",
      "_________________________________________________________________\n",
      "time_distributed_64 (TimeDis (None, 20, 30, 30, 32)    0         \n",
      "_________________________________________________________________\n",
      "time_distributed_65 (TimeDis (None, 20, 30, 30, 64)    18496     \n",
      "_________________________________________________________________\n",
      "time_distributed_66 (TimeDis (None, 20, 30, 30, 64)    256       \n",
      "_________________________________________________________________\n",
      "time_distributed_67 (TimeDis (None, 20, 15, 15, 64)    0         \n",
      "_________________________________________________________________\n",
      "time_distributed_68 (TimeDis (None, 20, 15, 15, 128)   73856     \n",
      "_________________________________________________________________\n",
      "time_distributed_69 (TimeDis (None, 20, 15, 15, 128)   512       \n",
      "_________________________________________________________________\n",
      "time_distributed_70 (TimeDis (None, 20, 7, 7, 128)     0         \n",
      "_________________________________________________________________\n",
      "time_distributed_71 (TimeDis (None, 20, 6272)          0         \n",
      "_________________________________________________________________\n",
      "gru_1 (GRU)                  (None, 256)               5014272   \n",
      "_________________________________________________________________\n",
      "dense_11 (Dense)             (None, 256)               65792     \n",
      "_________________________________________________________________\n",
      "dropout_12 (Dropout)         (None, 256)               0         \n",
      "_________________________________________________________________\n",
      "dense_12 (Dense)             (None, 5)                 1285      \n",
      "=================================================================\n",
      "Total params: 5,179,749\n",
      "Trainable params: 5,179,269\n",
      "Non-trainable params: 480\n",
      "_________________________________________________________________\n",
      "None\n"
     ]
    }
   ],
   "source": [
    "model = Sequential()\n",
    "\n",
    "model.add(TimeDistributed(Conv2D(16, (3, 3) , padding='same', activation='relu'),input_shape = input_shape))\n",
    "model.add(TimeDistributed(BatchNormalization()))\n",
    "model.add(TimeDistributed(MaxPooling2D((2, 2))))\n",
    "\n",
    "model.add(TimeDistributed(Conv2D(32, (3, 3) , padding='same', activation='relu')))\n",
    "model.add(TimeDistributed(BatchNormalization()))\n",
    "model.add(TimeDistributed(MaxPooling2D((2, 2))))\n",
    "\n",
    "model.add(TimeDistributed(Conv2D(64, (3, 3) , padding='same', activation='relu')))\n",
    "model.add(TimeDistributed(BatchNormalization()))\n",
    "model.add(TimeDistributed(MaxPooling2D((2, 2))))\n",
    "\n",
    "model.add(TimeDistributed(Conv2D(128, (3, 3) , padding='same', activation='relu')))\n",
    "model.add(TimeDistributed(BatchNormalization()))\n",
    "model.add(TimeDistributed(MaxPooling2D((2, 2))))\n",
    "\n",
    "model.add(TimeDistributed(Flatten()))\n",
    "\n",
    "\n",
    "model.add(GRU(256))\n",
    "\n",
    "model.add(Dense(256,activation='relu'))\n",
    "model.add(Dropout(0.4))\n",
    "\n",
    "model.add(Dense(5, activation='softmax'))\n",
    "\n",
    "\n",
    "optimiser = 'adam'\n",
    "model.compile(optimizer=optimiser, loss='categorical_crossentropy', metrics=['categorical_accuracy'])\n",
    "print (model.summary())\n"
   ]
  },
  {
   "cell_type": "code",
   "execution_count": 52,
   "metadata": {},
   "outputs": [
    {
     "name": "stdout",
     "output_type": "stream",
     "text": [
      "Epoch 1/10\n",
      "67/67 [==============================] - 41s 605ms/step - loss: 1.4539 - categorical_accuracy: 0.4015 - val_loss: 1.2004 - val_categorical_accuracy: 0.5700\n",
      "\n",
      "Epoch 00001: val_loss did not improve from 0.71041\n",
      "Epoch 2/10\n",
      "67/67 [==============================] - 37s 557ms/step - loss: 1.1359 - categorical_accuracy: 0.5537 - val_loss: 1.2232 - val_categorical_accuracy: 0.5900\n",
      "\n",
      "Epoch 00002: val_loss did not improve from 0.71041\n",
      "Epoch 3/10\n",
      "67/67 [==============================] - 38s 563ms/step - loss: 1.0577 - categorical_accuracy: 0.5851 - val_loss: 1.2969 - val_categorical_accuracy: 0.5100\n",
      "\n",
      "Epoch 00003: val_loss did not improve from 0.71041\n",
      "\n",
      "Epoch 00003: ReduceLROnPlateau reducing learning rate to 0.00010000000474974513.\n",
      "Epoch 4/10\n",
      "67/67 [==============================] - 37s 551ms/step - loss: 0.8169 - categorical_accuracy: 0.6881 - val_loss: 0.9588 - val_categorical_accuracy: 0.6800\n",
      "\n",
      "Epoch 00004: val_loss did not improve from 0.71041\n",
      "Epoch 5/10\n",
      "67/67 [==============================] - 39s 581ms/step - loss: 0.6373 - categorical_accuracy: 0.7582 - val_loss: 0.8742 - val_categorical_accuracy: 0.6200\n",
      "\n",
      "Epoch 00005: val_loss did not improve from 0.71041\n",
      "Epoch 6/10\n",
      "67/67 [==============================] - 39s 587ms/step - loss: 0.5861 - categorical_accuracy: 0.7836 - val_loss: 0.8486 - val_categorical_accuracy: 0.7200\n",
      "\n",
      "Epoch 00006: val_loss did not improve from 0.71041\n",
      "Epoch 7/10\n",
      "67/67 [==============================] - 39s 581ms/step - loss: 0.5013 - categorical_accuracy: 0.8328 - val_loss: 0.7144 - val_categorical_accuracy: 0.7000\n",
      "\n",
      "Epoch 00007: val_loss did not improve from 0.71041\n",
      "Epoch 8/10\n",
      "67/67 [==============================] - 39s 586ms/step - loss: 0.4422 - categorical_accuracy: 0.8537 - val_loss: 0.8529 - val_categorical_accuracy: 0.6800\n",
      "\n",
      "Epoch 00008: val_loss did not improve from 0.71041\n",
      "Epoch 9/10\n",
      "67/67 [==============================] - 39s 576ms/step - loss: 0.3759 - categorical_accuracy: 0.8910 - val_loss: 0.8323 - val_categorical_accuracy: 0.7000\n",
      "\n",
      "Epoch 00009: val_loss did not improve from 0.71041\n",
      "\n",
      "Epoch 00009: ReduceLROnPlateau reducing learning rate to 1.0000000474974514e-05.\n",
      "Epoch 10/10\n",
      "67/67 [==============================] - 39s 579ms/step - loss: 0.3375 - categorical_accuracy: 0.8910 - val_loss: 0.7419 - val_categorical_accuracy: 0.7100\n",
      "\n",
      "Epoch 00010: val_loss did not improve from 0.71041\n"
     ]
    }
   ],
   "source": [
    "history = model.fit_generator(train_generator, steps_per_epoch=steps_per_epoch, epochs=num_epochs, verbose=1, \n",
    "                    callbacks=callbacks_list, validation_data=val_generator, \n",
    "                    validation_steps=validation_steps, class_weight=None, workers=1, initial_epoch=0)"
   ]
  },
  {
   "cell_type": "code",
   "execution_count": 53,
   "metadata": {},
   "outputs": [
    {
     "data": {
      "image/png": "[encoded data removed]",
      "text/plain": [
       "<Figure size 1080x288 with 2 Axes>"
      ]
     },
     "metadata": {},
     "output_type": "display_data"
    }
   ],
   "source": [
    "plot(history)"
   ]
  },
  {
   "cell_type": "code",
   "execution_count": 54,
   "metadata": {},
   "outputs": [
    {
     "name": "stdout",
     "output_type": "stream",
     "text": [
      "   Model Accuracy   Model Loss                  Model Name  Val Accuracy  \\\n",
      "0       21.044777  1287.041966             Model_1_Vanilla     17.000000   \n",
      "0       85.074626    41.789013       Model_5_CNN_SimpleRNN     72.000000   \n",
      "0       85.074626    41.789013             Model_5_CNN_RNN     72.000000   \n",
      "0       84.925373    45.148897  Model_6_CNN_RNN_Add_Tuning     68.000000   \n",
      "0       84.328357    45.736756            Model_7_CNN_LSTM     67.000000   \n",
      "0       78.059702    62.010612       Model_8_CNN_LSTM_Tune     61.000001   \n",
      "0       89.104477    33.750303             Model_9_CNN_GRU     71.000000   \n",
      "\n",
      "      Val Loss  \n",
      "0  1332.210426  \n",
      "0    81.305320  \n",
      "0    81.305320  \n",
      "0    71.925250  \n",
      "0    79.238954  \n",
      "0    95.976012  \n",
      "0    74.194353  \n"
     ]
    }
   ],
   "source": [
    "df1 = model_result(\"Model_9_CNN_GRU\", history.history['categorical_accuracy'][-1], history.history['loss'][-1] , history.history['val_categorical_accuracy'][-1], history.history['val_loss'][-1])\n",
    "\n",
    "model_detail_df = pd.concat([model_detail_df,df1])\n",
    "print(model_detail_df.head(20))"
   ]
  },
  {
   "cell_type": "markdown",
   "metadata": {},
   "source": [
    "# <font color = 'blue'> Model 10 : CNN + GRU Network(Added more cells, Added Hidden Layer, Added Dropout)"
   ]
  },
  {
   "cell_type": "code",
   "execution_count": 55,
   "metadata": {},
   "outputs": [
    {
     "name": "stdout",
     "output_type": "stream",
     "text": [
      "_________________________________________________________________\n",
      "Layer (type)                 Output Shape              Param #   \n",
      "=================================================================\n",
      "time_distributed_72 (TimeDis (None, 20, 120, 120, 64)  1792      \n",
      "_________________________________________________________________\n",
      "time_distributed_73 (TimeDis (None, 20, 120, 120, 64)  256       \n",
      "_________________________________________________________________\n",
      "time_distributed_74 (TimeDis (None, 20, 60, 60, 64)    0         \n",
      "_________________________________________________________________\n",
      "time_distributed_75 (TimeDis (None, 20, 60, 60, 64)    36928     \n",
      "_________________________________________________________________\n",
      "time_distributed_76 (TimeDis (None, 20, 60, 60, 64)    256       \n",
      "_________________________________________________________________\n",
      "time_distributed_77 (TimeDis (None, 20, 30, 30, 64)    0         \n",
      "_________________________________________________________________\n",
      "dropout_13 (Dropout)         (None, 20, 30, 30, 64)    0         \n",
      "_________________________________________________________________\n",
      "time_distributed_78 (TimeDis (None, 20, 30, 30, 64)    36928     \n",
      "_________________________________________________________________\n",
      "time_distributed_79 (TimeDis (None, 20, 30, 30, 64)    256       \n",
      "_________________________________________________________________\n",
      "time_distributed_80 (TimeDis (None, 20, 15, 15, 64)    0         \n",
      "_________________________________________________________________\n",
      "dropout_14 (Dropout)         (None, 20, 15, 15, 64)    0         \n",
      "_________________________________________________________________\n",
      "time_distributed_81 (TimeDis (None, 20, 15, 15, 128)   73856     \n",
      "_________________________________________________________________\n",
      "time_distributed_82 (TimeDis (None, 20, 15, 15, 128)   512       \n",
      "_________________________________________________________________\n",
      "time_distributed_83 (TimeDis (None, 20, 7, 7, 128)     0         \n",
      "_________________________________________________________________\n",
      "dropout_15 (Dropout)         (None, 20, 7, 7, 128)     0         \n",
      "_________________________________________________________________\n",
      "time_distributed_84 (TimeDis (None, 20, 7, 7, 128)     147584    \n",
      "_________________________________________________________________\n",
      "time_distributed_85 (TimeDis (None, 20, 7, 7, 128)     512       \n",
      "_________________________________________________________________\n",
      "time_distributed_86 (TimeDis (None, 20, 3, 3, 128)     0         \n",
      "_________________________________________________________________\n",
      "dropout_16 (Dropout)         (None, 20, 3, 3, 128)     0         \n",
      "_________________________________________________________________\n",
      "time_distributed_87 (TimeDis (None, 20, 1152)          0         \n",
      "_________________________________________________________________\n",
      "gru_2 (GRU)                  (None, 512)               2557440   \n",
      "_________________________________________________________________\n",
      "dense_13 (Dense)             (None, 512)               262656    \n",
      "_________________________________________________________________\n",
      "dropout_17 (Dropout)         (None, 512)               0         \n",
      "_________________________________________________________________\n",
      "dense_14 (Dense)             (None, 5)                 2565      \n",
      "=================================================================\n",
      "Total params: 3,121,541\n",
      "Trainable params: 3,120,645\n",
      "Non-trainable params: 896\n",
      "_________________________________________________________________\n",
      "None\n"
     ]
    }
   ],
   "source": [
    "model = Sequential()\n",
    "\n",
    "model.add(TimeDistributed(Conv2D(64, (3, 3) , padding='same', activation='relu'),input_shape = input_shape))\n",
    "model.add(TimeDistributed(BatchNormalization()))\n",
    "model.add(TimeDistributed(MaxPooling2D((2, 2))))\n",
    "\n",
    "model.add(TimeDistributed(Conv2D(64, (3, 3) , padding='same', activation='relu')))\n",
    "model.add(TimeDistributed(BatchNormalization()))\n",
    "model.add(TimeDistributed(MaxPooling2D((2, 2))))\n",
    "model.add(Dropout(0.5))\n",
    "\n",
    "model.add(TimeDistributed(Conv2D(64, (3, 3) , padding='same', activation='relu')))\n",
    "model.add(TimeDistributed(BatchNormalization()))\n",
    "model.add(TimeDistributed(MaxPooling2D((2, 2))))\n",
    "model.add(Dropout(0.5))\n",
    "\n",
    "model.add(TimeDistributed(Conv2D(128, (3, 3) , padding='same', activation='relu')))\n",
    "model.add(TimeDistributed(BatchNormalization()))\n",
    "model.add(TimeDistributed(MaxPooling2D((2, 2))))\n",
    "model.add(Dropout(0.5))\n",
    "\n",
    "\n",
    "model.add(TimeDistributed(Conv2D(128, (3, 3) , padding='same', activation='relu')))\n",
    "model.add(TimeDistributed(BatchNormalization()))\n",
    "model.add(TimeDistributed(MaxPooling2D((2, 2))))\n",
    "model.add(Dropout(0.5))\n",
    "\n",
    "model.add(TimeDistributed(Flatten()))\n",
    "\n",
    "\n",
    "model.add(GRU(512))\n",
    "\n",
    "model.add(Dense(512,activation='relu'))\n",
    "model.add(Dropout(0.5))\n",
    "\n",
    "model.add(Dense(5, activation='softmax'))\n",
    "\n",
    "\n",
    "optimiser = 'adam'\n",
    "model.compile(optimizer=optimiser, loss='categorical_crossentropy', metrics=['categorical_accuracy'])\n",
    "print (model.summary())\n"
   ]
  },
  {
   "cell_type": "code",
   "execution_count": 56,
   "metadata": {},
   "outputs": [
    {
     "name": "stdout",
     "output_type": "stream",
     "text": [
      "Epoch 1/10\n",
      "67/67 [==============================] - 47s 698ms/step - loss: 1.8162 - categorical_accuracy: 0.2731 - val_loss: 2.2737 - val_categorical_accuracy: 0.2700\n",
      "\n",
      "Epoch 00001: val_loss did not improve from 0.71041\n",
      "Epoch 2/10\n",
      "67/67 [==============================] - 39s 579ms/step - loss: 1.3765 - categorical_accuracy: 0.4567 - val_loss: 1.9971 - val_categorical_accuracy: 0.4300\n",
      "\n",
      "Epoch 00002: val_loss did not improve from 0.71041\n",
      "Epoch 3/10\n",
      "67/67 [==============================] - 39s 579ms/step - loss: 1.2313 - categorical_accuracy: 0.4881 - val_loss: 1.5413 - val_categorical_accuracy: 0.4600\n",
      "\n",
      "Epoch 00003: val_loss did not improve from 0.71041\n",
      "Epoch 4/10\n",
      "67/67 [==============================] - 39s 579ms/step - loss: 1.1961 - categorical_accuracy: 0.4955 - val_loss: 1.1912 - val_categorical_accuracy: 0.5100\n",
      "\n",
      "Epoch 00004: val_loss did not improve from 0.71041\n",
      "Epoch 5/10\n",
      "67/67 [==============================] - 39s 579ms/step - loss: 1.1057 - categorical_accuracy: 0.5642 - val_loss: 2.3066 - val_categorical_accuracy: 0.3500\n",
      "\n",
      "Epoch 00005: val_loss did not improve from 0.71041\n",
      "Epoch 6/10\n",
      "67/67 [==============================] - 39s 580ms/step - loss: 0.9847 - categorical_accuracy: 0.6075 - val_loss: 1.5751 - val_categorical_accuracy: 0.4600\n",
      "\n",
      "Epoch 00006: val_loss did not improve from 0.71041\n",
      "\n",
      "Epoch 00006: ReduceLROnPlateau reducing learning rate to 0.00010000000474974513.\n",
      "Epoch 7/10\n",
      "67/67 [==============================] - 39s 579ms/step - loss: 0.8038 - categorical_accuracy: 0.7060 - val_loss: 1.8141 - val_categorical_accuracy: 0.4500\n",
      "\n",
      "Epoch 00007: val_loss did not improve from 0.71041\n",
      "Epoch 8/10\n",
      "67/67 [==============================] - 39s 580ms/step - loss: 0.7474 - categorical_accuracy: 0.7284 - val_loss: 1.7249 - val_categorical_accuracy: 0.4900\n",
      "\n",
      "Epoch 00008: val_loss did not improve from 0.71041\n",
      "\n",
      "Epoch 00008: ReduceLROnPlateau reducing learning rate to 1.0000000474974514e-05.\n",
      "Epoch 9/10\n",
      "67/67 [==============================] - 39s 585ms/step - loss: 0.7216 - categorical_accuracy: 0.7164 - val_loss: 2.0660 - val_categorical_accuracy: 0.4400\n",
      "\n",
      "Epoch 00009: val_loss did not improve from 0.71041\n",
      "Epoch 10/10\n",
      "67/67 [==============================] - 39s 581ms/step - loss: 0.6541 - categorical_accuracy: 0.7761 - val_loss: 1.8409 - val_categorical_accuracy: 0.4800\n",
      "\n",
      "Epoch 00010: val_loss did not improve from 0.71041\n",
      "\n",
      "Epoch 00010: ReduceLROnPlateau reducing learning rate to 1.0000000656873453e-06.\n"
     ]
    }
   ],
   "source": [
    "history = model.fit_generator(train_generator, steps_per_epoch=steps_per_epoch, epochs=num_epochs, verbose=1, \n",
    "                    callbacks=callbacks_list, validation_data=val_generator, \n",
    "                    validation_steps=validation_steps, class_weight=None, workers=1, initial_epoch=0)"
   ]
  },
  {
   "cell_type": "code",
   "execution_count": 57,
   "metadata": {},
   "outputs": [
    {
     "data": {
      "image/png": "[encoded data removed]",
      "text/plain": [
       "<Figure size 1080x288 with 2 Axes>"
      ]
     },
     "metadata": {},
     "output_type": "display_data"
    }
   ],
   "source": [
    "plot(history)"
   ]
  },
  {
   "cell_type": "code",
   "execution_count": null,
   "metadata": {},
   "outputs": [],
   "source": []
  },
  {
   "cell_type": "code",
   "execution_count": 58,
   "metadata": {},
   "outputs": [
    {
     "name": "stdout",
     "output_type": "stream",
     "text": [
      "   Model Accuracy   Model Loss                  Model Name  Val Accuracy  \\\n",
      "0       21.044777  1287.041966             Model_1_Vanilla     17.000000   \n",
      "0       85.074626    41.789013       Model_5_CNN_SimpleRNN     72.000000   \n",
      "0       85.074626    41.789013             Model_5_CNN_RNN     72.000000   \n",
      "0       84.925373    45.148897  Model_6_CNN_RNN_Add_Tuning     68.000000   \n",
      "0       84.328357    45.736756            Model_7_CNN_LSTM     67.000000   \n",
      "0       78.059702    62.010612       Model_8_CNN_LSTM_Tune     61.000001   \n",
      "0       89.104477    33.750303             Model_9_CNN_GRU     71.000000   \n",
      "0       77.611940    65.411160     Model_10_CNN_GRU_Tuning     48.000001   \n",
      "\n",
      "      Val Loss  \n",
      "0  1332.210426  \n",
      "0    81.305320  \n",
      "0    81.305320  \n",
      "0    71.925250  \n",
      "0    79.238954  \n",
      "0    95.976012  \n",
      "0    74.194353  \n",
      "0   184.093602  \n"
     ]
    }
   ],
   "source": [
    "df1 = model_result(\"Model_10_CNN_GRU_Tuning\",history.history['categorical_accuracy'][-1], history.history['loss'][-1] , history.history['val_categorical_accuracy'][-1], history.history['val_loss'][-1])\n",
    "\n",
    "model_detail_df = pd.concat([model_detail_df,df1])\n",
    "print(model_detail_df.head(20))"
   ]
  },
  {
   "cell_type": "markdown",
   "metadata": {},
   "source": [
    "# <font color = 'blue'> Model 11 : conv3d(Added More Neuron, Change Activation : Adam, Added dropout )"
   ]
  },
  {
   "cell_type": "code",
   "execution_count": 60,
   "metadata": {},
   "outputs": [
    {
     "name": "stdout",
     "output_type": "stream",
     "text": [
      "_________________________________________________________________\n",
      "Layer (type)                 Output Shape              Param #   \n",
      "=================================================================\n",
      "conv3d_4 (Conv3D)            (None, 20, 120, 120, 16)  1312      \n",
      "_________________________________________________________________\n",
      "batch_normalization_31 (Batc (None, 20, 120, 120, 16)  64        \n",
      "_________________________________________________________________\n",
      "max_pooling3d_3 (MaxPooling3 (None, 10, 60, 60, 16)    0         \n",
      "_________________________________________________________________\n",
      "conv3d_5 (Conv3D)            (None, 10, 60, 60, 32)    13856     \n",
      "_________________________________________________________________\n",
      "batch_normalization_32 (Batc (None, 10, 60, 60, 32)    128       \n",
      "_________________________________________________________________\n",
      "max_pooling3d_4 (MaxPooling3 (None, 5, 30, 30, 32)     0         \n",
      "_________________________________________________________________\n",
      "dropout_18 (Dropout)         (None, 5, 30, 30, 32)     0         \n",
      "_________________________________________________________________\n",
      "conv3d_6 (Conv3D)            (None, 5, 30, 30, 64)     55360     \n",
      "_________________________________________________________________\n",
      "batch_normalization_33 (Batc (None, 5, 30, 30, 64)     256       \n",
      "_________________________________________________________________\n",
      "max_pooling3d_5 (MaxPooling3 (None, 2, 15, 15, 64)     0         \n",
      "_________________________________________________________________\n",
      "dropout_19 (Dropout)         (None, 2, 15, 15, 64)     0         \n",
      "_________________________________________________________________\n",
      "conv3d_7 (Conv3D)            (None, 2, 15, 15, 128)    221312    \n",
      "_________________________________________________________________\n",
      "batch_normalization_34 (Batc (None, 2, 15, 15, 128)    512       \n",
      "_________________________________________________________________\n",
      "max_pooling3d_6 (MaxPooling3 (None, 1, 7, 7, 128)      0         \n",
      "_________________________________________________________________\n",
      "dropout_20 (Dropout)         (None, 1, 7, 7, 128)      0         \n",
      "_________________________________________________________________\n",
      "flatten_8 (Flatten)          (None, 6272)              0         \n",
      "_________________________________________________________________\n",
      "dense_15 (Dense)             (None, 512)               3211776   \n",
      "_________________________________________________________________\n",
      "dropout_21 (Dropout)         (None, 512)               0         \n",
      "_________________________________________________________________\n",
      "dense_16 (Dense)             (None, 256)               131328    \n",
      "_________________________________________________________________\n",
      "dropout_22 (Dropout)         (None, 256)               0         \n",
      "_________________________________________________________________\n",
      "dense_17 (Dense)             (None, 5)                 1285      \n",
      "=================================================================\n",
      "Total params: 3,637,189\n",
      "Trainable params: 3,636,709\n",
      "Non-trainable params: 480\n",
      "_________________________________________________________________\n",
      "None\n"
     ]
    }
   ],
   "source": [
    "#Let's try 'sgd' as optimizer on same architecture with 10 epochs\n",
    "\n",
    "model = Sequential()\n",
    "\n",
    "\n",
    "model.add(Conv3D(16, kernel_size=(3,3,3), padding='same', activation='relu',input_shape = (20,120,120,3)))\n",
    "model.add(BatchNormalization())\n",
    "model.add(MaxPooling3D(pool_size=(2, 2, 2)))\n",
    "\n",
    "model.add(Conv3D(32, kernel_size=(3,3,3), padding='same', activation='relu'))\n",
    "model.add(BatchNormalization())\n",
    "model.add(MaxPooling3D(pool_size=(2, 2, 2)))\n",
    "model.add(Dropout(0.25))\n",
    "\n",
    "model.add(Conv3D(64, kernel_size=(3,3,3), padding='same', activation='relu'))\n",
    "model.add(BatchNormalization())\n",
    "model.add(MaxPooling3D(pool_size=(2, 2, 2)))\n",
    "model.add(Dropout(0.25))\n",
    "\n",
    "model.add(Conv3D(128, kernel_size=(3,3,3), padding='same', activation='relu'))\n",
    "model.add(BatchNormalization())\n",
    "model.add(MaxPooling3D(pool_size=(2, 2, 2)))\n",
    "model.add(Dropout(0.25))\n",
    "\n",
    "model.add(Flatten())\n",
    "model.add(Dense(512,kernel_regularizer=l2(0.01),activation='relu'))\n",
    "model.add(Dropout(0.50))\n",
    "\n",
    "model.add(Dense(256, activation='relu'))\n",
    "model.add(Dropout(0.5))\n",
    "\n",
    "\n",
    "model.add(Dense(5, activation = 'softmax'))\n",
    "\n",
    "optimiser = 'adam'\n",
    "model.compile(optimizer=optimiser, loss='categorical_crossentropy', metrics=['categorical_accuracy'])\n",
    "print (model.summary())"
   ]
  },
  {
   "cell_type": "code",
   "execution_count": 61,
   "metadata": {},
   "outputs": [
    {
     "name": "stdout",
     "output_type": "stream",
     "text": [
      "Epoch 1/10\n",
      "67/67 [==============================] - 40s 603ms/step - loss: 17.0627 - categorical_accuracy: 0.2582 - val_loss: 15.4648 - val_categorical_accuracy: 0.3600\n",
      "\n",
      "Epoch 00001: val_loss did not improve from 0.71041\n",
      "Epoch 2/10\n",
      "67/67 [==============================] - 36s 537ms/step - loss: 13.4523 - categorical_accuracy: 0.3552 - val_loss: 10.3413 - val_categorical_accuracy: 0.5100\n",
      "\n",
      "Epoch 00002: val_loss did not improve from 0.71041\n",
      "Epoch 3/10\n",
      "67/67 [==============================] - 37s 554ms/step - loss: 9.8781 - categorical_accuracy: 0.4119 - val_loss: 9.2235 - val_categorical_accuracy: 0.3500\n",
      "\n",
      "Epoch 00003: val_loss did not improve from 0.71041\n",
      "Epoch 4/10\n",
      "67/67 [==============================] - 38s 568ms/step - loss: 8.5439 - categorical_accuracy: 0.4045 - val_loss: 7.4817 - val_categorical_accuracy: 0.3800\n",
      "\n",
      "Epoch 00004: val_loss did not improve from 0.71041\n",
      "Epoch 5/10\n",
      "67/67 [==============================] - 37s 558ms/step - loss: 7.5866 - categorical_accuracy: 0.4537 - val_loss: 7.7313 - val_categorical_accuracy: 0.4800\n",
      "\n",
      "Epoch 00005: val_loss did not improve from 0.71041\n",
      "Epoch 6/10\n",
      "67/67 [==============================] - 37s 552ms/step - loss: 6.9139 - categorical_accuracy: 0.4627 - val_loss: 5.9110 - val_categorical_accuracy: 0.4400\n",
      "\n",
      "Epoch 00006: val_loss did not improve from 0.71041\n",
      "Epoch 7/10\n",
      "67/67 [==============================] - 39s 587ms/step - loss: 6.2518 - categorical_accuracy: 0.5179 - val_loss: 5.5187 - val_categorical_accuracy: 0.5000\n",
      "\n",
      "Epoch 00007: val_loss did not improve from 0.71041\n",
      "Epoch 8/10\n",
      "67/67 [==============================] - 39s 578ms/step - loss: 5.6548 - categorical_accuracy: 0.5239 - val_loss: 5.6718 - val_categorical_accuracy: 0.4600\n",
      "\n",
      "Epoch 00008: val_loss did not improve from 0.71041\n",
      "Epoch 9/10\n",
      "67/67 [==============================] - 39s 584ms/step - loss: 4.7639 - categorical_accuracy: 0.5687 - val_loss: 4.2820 - val_categorical_accuracy: 0.6100\n",
      "\n",
      "Epoch 00009: val_loss did not improve from 0.71041\n",
      "Epoch 10/10\n",
      "67/67 [==============================] - 39s 575ms/step - loss: 4.9525 - categorical_accuracy: 0.5388 - val_loss: 6.1583 - val_categorical_accuracy: 0.2700\n",
      "\n",
      "Epoch 00010: val_loss did not improve from 0.71041\n"
     ]
    }
   ],
   "source": [
    "history = model.fit_generator(train_generator, steps_per_epoch=steps_per_epoch, epochs=num_epochs, verbose=1, \n",
    "                    callbacks=callbacks_list, validation_data=val_generator, \n",
    "                    validation_steps=validation_steps, class_weight=None, workers=1, initial_epoch=0)"
   ]
  },
  {
   "cell_type": "code",
   "execution_count": null,
   "metadata": {},
   "outputs": [],
   "source": []
  },
  {
   "cell_type": "code",
   "execution_count": 62,
   "metadata": {},
   "outputs": [
    {
     "data": {
      "image/png": "[encoded data removed]",
      "text/plain": [
       "<Figure size 1080x288 with 2 Axes>"
      ]
     },
     "metadata": {},
     "output_type": "display_data"
    }
   ],
   "source": [
    "plot(history)"
   ]
  },
  {
   "cell_type": "code",
   "execution_count": 63,
   "metadata": {},
   "outputs": [
    {
     "name": "stdout",
     "output_type": "stream",
     "text": [
      "   Model Accuracy   Model Loss                  Model Name  Val Accuracy  \\\n",
      "0       21.044777  1287.041966             Model_1_Vanilla     17.000000   \n",
      "0       85.074626    41.789013       Model_5_CNN_SimpleRNN     72.000000   \n",
      "0       85.074626    41.789013             Model_5_CNN_RNN     72.000000   \n",
      "0       84.925373    45.148897  Model_6_CNN_RNN_Add_Tuning     68.000000   \n",
      "0       84.328357    45.736756            Model_7_CNN_LSTM     67.000000   \n",
      "0       78.059702    62.010612       Model_8_CNN_LSTM_Tune     61.000001   \n",
      "0       89.104477    33.750303             Model_9_CNN_GRU     71.000000   \n",
      "0       77.611940    65.411160     Model_10_CNN_GRU_Tuning     48.000001   \n",
      "0       53.880598   495.251317                    Model_11     27.000000   \n",
      "\n",
      "      Val Loss  \n",
      "0  1332.210426  \n",
      "0    81.305320  \n",
      "0    81.305320  \n",
      "0    71.925250  \n",
      "0    79.238954  \n",
      "0    95.976012  \n",
      "0    74.194353  \n",
      "0   184.093602  \n",
      "0   615.834832  \n"
     ]
    }
   ],
   "source": [
    "df1 = model_result(\"Model_11\", history.history['categorical_accuracy'][-1], history.history['loss'][-1] , history.history['val_categorical_accuracy'][-1], history.history['val_loss'][-1])\n",
    "\n",
    "model_detail_df = pd.concat([model_detail_df,df1])\n",
    "print(model_detail_df.head(20))"
   ]
  },
  {
   "cell_type": "code",
   "execution_count": null,
   "metadata": {},
   "outputs": [],
   "source": []
  },
  {
   "cell_type": "code",
   "execution_count": null,
   "metadata": {},
   "outputs": [],
   "source": [
    "# <font color = 'blue'> Model 12 : conv3d(Added More Neuron, Change Activation : Adam, Added dropout, change ba )"
   ]
  },
  {
   "cell_type": "code",
   "execution_count": 72,
   "metadata": {
    "scrolled": true
   },
   "outputs": [
    {
     "name": "stdout",
     "output_type": "stream",
     "text": [
      "_________________________________________________________________\n",
      "Layer (type)                 Output Shape              Param #   \n",
      "=================================================================\n",
      "conv3d_18 (Conv3D)           (None, 20, 120, 120, 16)  1312      \n",
      "_________________________________________________________________\n",
      "batch_normalization_45 (Batc (None, 20, 120, 120, 16)  64        \n",
      "_________________________________________________________________\n",
      "max_pooling3d_17 (MaxPooling (None, 10, 60, 60, 16)    0         \n",
      "_________________________________________________________________\n",
      "conv3d_19 (Conv3D)           (None, 10, 60, 60, 32)    13856     \n",
      "_________________________________________________________________\n",
      "batch_normalization_46 (Batc (None, 10, 60, 60, 32)    128       \n",
      "_________________________________________________________________\n",
      "max_pooling3d_18 (MaxPooling (None, 5, 30, 30, 32)     0         \n",
      "_________________________________________________________________\n",
      "dropout_29 (Dropout)         (None, 5, 30, 30, 32)     0         \n",
      "_________________________________________________________________\n",
      "conv3d_20 (Conv3D)           (None, 5, 30, 30, 64)     55360     \n",
      "_________________________________________________________________\n",
      "batch_normalization_47 (Batc (None, 5, 30, 30, 64)     256       \n",
      "_________________________________________________________________\n",
      "max_pooling3d_19 (MaxPooling (None, 2, 15, 15, 64)     0         \n",
      "_________________________________________________________________\n",
      "dropout_30 (Dropout)         (None, 2, 15, 15, 64)     0         \n",
      "_________________________________________________________________\n",
      "conv3d_21 (Conv3D)           (None, 2, 15, 15, 128)    221312    \n",
      "_________________________________________________________________\n",
      "batch_normalization_48 (Batc (None, 2, 15, 15, 128)    512       \n",
      "_________________________________________________________________\n",
      "max_pooling3d_20 (MaxPooling (None, 1, 7, 7, 128)      0         \n",
      "_________________________________________________________________\n",
      "flatten_9 (Flatten)          (None, 6272)              0         \n",
      "_________________________________________________________________\n",
      "dense_18 (Dense)             (None, 512)               3211776   \n",
      "_________________________________________________________________\n",
      "dropout_31 (Dropout)         (None, 512)               0         \n",
      "_________________________________________________________________\n",
      "dense_19 (Dense)             (None, 5)                 2565      \n",
      "=================================================================\n",
      "Total params: 3,507,141\n",
      "Trainable params: 3,506,661\n",
      "Non-trainable params: 480\n",
      "_________________________________________________________________\n",
      "None\n"
     ]
    }
   ],
   "source": [
    "#Let's try 'sgd' as optimizer on same architecture with 20 epochs\n",
    "\n",
    "model = Sequential()\n",
    "\n",
    "\n",
    "model.add(Conv3D(16, kernel_size=(3,3,3), padding='same', activation='relu',input_shape = (20,120,120,3)))\n",
    "model.add(BatchNormalization())\n",
    "model.add(MaxPooling3D(pool_size=(2, 2, 2)))\n",
    "\n",
    "model.add(Conv3D(32, kernel_size=(3,3,3), padding='same', activation='relu'))\n",
    "model.add(BatchNormalization())\n",
    "model.add(MaxPooling3D(pool_size=(2, 2, 2)))\n",
    "model.add(Dropout(0.25))\n",
    "\n",
    "model.add(Conv3D(64, kernel_size=(3,3,3), padding='same', activation='relu'))\n",
    "model.add(BatchNormalization())\n",
    "model.add(MaxPooling3D(pool_size=(2, 2, 2)))\n",
    "model.add(Dropout(0.25))\n",
    "\n",
    "model.add(Conv3D(128, kernel_size=(3,3,3), padding='same', activation='relu'))\n",
    "model.add(BatchNormalization())\n",
    "model.add(MaxPooling3D(pool_size=(2, 2, 2)))\n",
    "\n",
    "model.add(Flatten())\n",
    "model.add(Dense(512,kernel_regularizer=l2(0.01),activation='relu'))\n",
    "model.add(Dropout(0.50))\n",
    "\n",
    "\n",
    "\n",
    "model.add(Dense(5, activation = 'softmax'))\n",
    "\n",
    "optimiser = 'sgd'\n",
    "model.compile(optimizer=optimiser, loss='categorical_crossentropy', metrics=['categorical_accuracy'])\n",
    "print (model.summary())"
   ]
  },
  {
   "cell_type": "code",
   "execution_count": 73,
   "metadata": {},
   "outputs": [],
   "source": [
    "train_generator = generator(train_path, train_doc, 20)\n",
    "val_generator = generator(val_path, val_doc, 20)"
   ]
  },
  {
   "cell_type": "code",
   "execution_count": 74,
   "metadata": {},
   "outputs": [
    {
     "name": "stdout",
     "output_type": "stream",
     "text": [
      "Source path =  Project_data/val ; batch size = 20\n",
      "Source path =  Project_data/train ; batch size = 20\n",
      "Epoch 1/10\n",
      "67/67 [==============================] - 81s 1s/step - loss: 13.0475 - categorical_accuracy: 0.4284 - val_loss: 10.8309 - val_categorical_accuracy: 0.4800\n",
      "\n",
      "Epoch 00001: val_loss did not improve from 0.71041\n",
      "Epoch 2/10\n",
      "67/67 [==============================] - 74s 1s/step - loss: 10.0718 - categorical_accuracy: 0.6597 - val_loss: 10.0891 - val_categorical_accuracy: 0.6800\n",
      "\n",
      "Epoch 00002: val_loss did not improve from 0.71041\n",
      "Epoch 3/10\n",
      "67/67 [==============================] - 75s 1s/step - loss: 9.6681 - categorical_accuracy: 0.7060 - val_loss: 9.7221 - val_categorical_accuracy: 0.6700\n",
      "\n",
      "Epoch 00003: val_loss did not improve from 0.71041\n",
      "Epoch 4/10\n",
      "67/67 [==============================] - 75s 1s/step - loss: 9.2897 - categorical_accuracy: 0.7701 - val_loss: 9.4642 - val_categorical_accuracy: 0.7000\n",
      "\n",
      "Epoch 00004: val_loss did not improve from 0.71041\n",
      "Epoch 5/10\n",
      "67/67 [==============================] - 76s 1s/step - loss: 8.9128 - categorical_accuracy: 0.8284 - val_loss: 9.1735 - val_categorical_accuracy: 0.7400\n",
      "\n",
      "Epoch 00005: val_loss did not improve from 0.71041\n",
      "Epoch 6/10\n",
      "67/67 [==============================] - 76s 1s/step - loss: 8.6271 - categorical_accuracy: 0.8500 - val_loss: 8.9911 - val_categorical_accuracy: 0.7200\n",
      "\n",
      "Epoch 00006: val_loss did not improve from 0.71041\n",
      "Epoch 7/10\n",
      "67/67 [==============================] - 75s 1s/step - loss: 8.3587 - categorical_accuracy: 0.8791 - val_loss: 8.7796 - val_categorical_accuracy: 0.7500\n",
      "\n",
      "Epoch 00007: val_loss did not improve from 0.71041\n",
      "Epoch 8/10\n",
      "67/67 [==============================] - 74s 1s/step - loss: 8.1110 - categorical_accuracy: 0.9007 - val_loss: 8.5191 - val_categorical_accuracy: 0.7500\n",
      "\n",
      "Epoch 00008: val_loss did not improve from 0.71041\n",
      "Epoch 9/10\n",
      "67/67 [==============================] - 75s 1s/step - loss: 7.8711 - categorical_accuracy: 0.9201 - val_loss: 8.3477 - val_categorical_accuracy: 0.7500\n",
      "\n",
      "Epoch 00009: val_loss did not improve from 0.71041\n",
      "Epoch 10/10\n",
      "67/67 [==============================] - 75s 1s/step - loss: 7.6472 - categorical_accuracy: 0.9246 - val_loss: 8.3311 - val_categorical_accuracy: 0.7500\n",
      "\n",
      "Epoch 00010: val_loss did not improve from 0.71041\n"
     ]
    }
   ],
   "source": [
    "history = model.fit_generator(train_generator, steps_per_epoch=steps_per_epoch, epochs=num_epochs, verbose=1, \n",
    "                    callbacks=callbacks_list, validation_data=val_generator, \n",
    "                    validation_steps=validation_steps, class_weight=None, workers=1, initial_epoch=0)"
   ]
  },
  {
   "cell_type": "code",
   "execution_count": null,
   "metadata": {},
   "outputs": [],
   "source": [
    "plot(history)"
   ]
  },
  {
   "cell_type": "code",
   "execution_count": null,
   "metadata": {},
   "outputs": [],
   "source": [
    "df1 = model_result(\"Model_11\", history.history['categorical_accuracy'][-1], history.history['loss'][-1] , history.history['val_categorical_accuracy'][-1], history.history['val_loss'][-1])\n",
    "\n",
    "model_detail_df = pd.concat([model_detail_df,df1])\n",
    "print(model_detail_df.head(20))"
   ]
  },
  {
   "cell_type": "code",
   "execution_count": null,
   "metadata": {},
   "outputs": [],
   "source": []
  },
  {
   "cell_type": "code",
   "execution_count": null,
   "metadata": {},
   "outputs": [],
   "source": []
  }
 ],
 "metadata": {
  "kernelspec": {
   "display_name": "Python 3",
   "language": "python",
   "name": "python3"
  },
  "language_info": {
   "codemirror_mode": {
    "name": "ipython",
    "version": 3
   },
   "file_extension": ".py",
   "mimetype": "text/x-python",
   "name": "python",
   "nbconvert_exporter": "python",
   "pygments_lexer": "ipython3",
   "version": "3.6.8"
  }
 },
 "nbformat": 4,
 "nbformat_minor": 2
}
