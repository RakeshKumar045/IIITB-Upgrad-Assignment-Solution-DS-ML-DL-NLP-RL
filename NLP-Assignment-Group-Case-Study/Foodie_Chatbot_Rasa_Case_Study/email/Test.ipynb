{
 "cells": [
  {
   "cell_type": "code",
   "execution_count": null,
   "metadata": {},
   "outputs": [],
   "source": []
  },
  {
   "cell_type": "code",
   "execution_count": 5,
   "metadata": {},
   "outputs": [
    {
     "name": "stderr",
     "output_type": "stream",
     "text": [
      " * Running on http://localhost:9000/ (Press CTRL+C to quit)\n",
      "127.0.0.1 - - [06/Jul/2020 19:34:34] \"\u001b[37mGET / HTTP/1.1\u001b[0m\" 200 -\n",
      "send: 'ehlo [127.0.1.1]\\r\\n'\n",
      "reply: b'250-smtp.gmail.com at your service, [122.167.209.120]\\r\\n'\n",
      "reply: b'250-SIZE 35882577\\r\\n'\n",
      "reply: b'250-8BITMIME\\r\\n'\n",
      "reply: b'250-STARTTLS\\r\\n'\n",
      "reply: b'250-ENHANCEDSTATUSCODES\\r\\n'\n",
      "reply: b'250-PIPELINING\\r\\n'\n",
      "reply: b'250-CHUNKING\\r\\n'\n",
      "reply: b'250 SMTPUTF8\\r\\n'\n",
      "reply: retcode (250); Msg: b'smtp.gmail.com at your service, [122.167.209.120]\\nSIZE 35882577\\n8BITMIME\\nSTARTTLS\\nENHANCEDSTATUSCODES\\nPIPELINING\\nCHUNKING\\nSMTPUTF8'\n",
      "send: 'STARTTLS\\r\\n'\n",
      "reply: b'220 2.0.0 Ready to start TLS\\r\\n'\n",
      "reply: retcode (220); Msg: b'2.0.0 Ready to start TLS'\n",
      "send: 'ehlo [127.0.1.1]\\r\\n'\n",
      "reply: b'250-smtp.gmail.com at your service, [122.167.209.120]\\r\\n'\n",
      "reply: b'250-SIZE 35882577\\r\\n'\n",
      "reply: b'250-8BITMIME\\r\\n'\n",
      "reply: b'250-AUTH LOGIN PLAIN XOAUTH2 PLAIN-CLIENTTOKEN OAUTHBEARER XOAUTH\\r\\n'\n",
      "reply: b'250-ENHANCEDSTATUSCODES\\r\\n'\n",
      "reply: b'250-PIPELINING\\r\\n'\n",
      "reply: b'250-CHUNKING\\r\\n'\n",
      "reply: b'250 SMTPUTF8\\r\\n'\n",
      "reply: retcode (250); Msg: b'smtp.gmail.com at your service, [122.167.209.120]\\nSIZE 35882577\\n8BITMIME\\nAUTH LOGIN PLAIN XOAUTH2 PLAIN-CLIENTTOKEN OAUTHBEARER XOAUTH\\nENHANCEDSTATUSCODES\\nPIPELINING\\nCHUNKING\\nSMTPUTF8'\n",
      "send: 'AUTH PLAIN AHJha2VzaC5zaXQwNDVAZ21haWwuY29tAFJha2VzaGt1bWFyQDA2MTg0\\r\\n'\n",
      "reply: b'235 2.7.0 Accepted\\r\\n'\n",
      "reply: retcode (235); Msg: b'2.7.0 Accepted'\n",
      "send: 'mail FROM:<rakesh.sit045@gmail.com> size=371\\r\\n'\n",
      "reply: b'250 2.1.0 OK g135sm20279271pfb.41 - gsmtp\\r\\n'\n",
      "reply: retcode (250); Msg: b'2.1.0 OK g135sm20279271pfb.41 - gsmtp'\n",
      "send: 'rcpt TO:<2702rakesh@gmail.com>\\r\\n'\n",
      "reply: b'250 2.1.5 OK g135sm20279271pfb.41 - gsmtp\\r\\n'\n",
      "reply: retcode (250); Msg: b'2.1.5 OK g135sm20279271pfb.41 - gsmtp'\n",
      "send: 'rcpt TO:<trishla.singh35@gmail.com>\\r\\n'\n",
      "reply: b'250 2.1.5 OK g135sm20279271pfb.41 - gsmtp\\r\\n'\n",
      "reply: retcode (250); Msg: b'2.1.5 OK g135sm20279271pfb.41 - gsmtp'\n",
      "send: 'data\\r\\n'\n",
      "reply: b'354  Go ahead g135sm20279271pfb.41 - gsmtp\\r\\n'\n",
      "reply: retcode (354); Msg: b'Go ahead g135sm20279271pfb.41 - gsmtp'\n",
      "data: (354, b'Go ahead g135sm20279271pfb.41 - gsmtp')\n",
      "send: b'Content-Type: text/plain; charset=\"utf-8\"\\r\\nMIME-Version: 1.0\\r\\nContent-Transfer-Encoding: 7bit\\r\\nSubject: Trishala Maate ko Pranam\\r\\nFrom: rakesh.sit045@gmail.com\\r\\nTo: 2702rakesh@gmail.com, trishla.singh35@gmail.com\\r\\nDate: Mon, 06 Jul 2020 19:34:52 +0530\\r\\nMessage-ID: <159404429078.47188.3877267379813395375@lappy>\\r\\n\\r\\nMaate mera pranam accept kare Maa, Galti ko maaf kare...\\r\\n.\\r\\n'\n",
      "reply: b'250 2.0.0 OK  1594044293 g135sm20279271pfb.41 - gsmtp\\r\\n'\n",
      "reply: retcode (250); Msg: b'2.0.0 OK  1594044293 g135sm20279271pfb.41 - gsmtp'\n",
      "data: (250, b'2.0.0 OK  1594044293 g135sm20279271pfb.41 - gsmtp')\n",
      "send: 'quit\\r\\n'\n",
      "reply: b'221 2.0.0 closing connection g135sm20279271pfb.41 - gsmtp\\r\\n'\n",
      "reply: retcode (221); Msg: b'2.0.0 closing connection g135sm20279271pfb.41 - gsmtp'\n",
      "127.0.0.1 - - [06/Jul/2020 19:34:54] \"\u001b[37mGET /check HTTP/1.1\u001b[0m\" 200 -\n"
     ]
    },
    {
     "name": "stdout",
     "output_type": "stream",
     "text": [
      "Mail sent\n"
     ]
    }
   ],
   "source": [
    "from werkzeug.wrappers import Request, Response\n",
    "from flask import Flask\n",
    "\n",
    "\n",
    "from flask import Flask, render_template\n",
    "from flask_mail import Mail, Message\n",
    "\n",
    "app = Flask(__name__)\n",
    "\n",
    "\n",
    "mail_user_name = \"rakesh.sit0045@gmail.com\"\n",
    "sender_mail = \"27002rakesh@gmail.com\"\n",
    "sender_trishala_mail = \"trishla.singh035@gmail.com\"\n",
    "sender_raka_mail = \"raka006184@gmail.com\"\n",
    "mail_password = \"Rakeshkumar7340@096*\"\n",
    "\n",
    "app.config.update(\n",
    "    DEBUG=True,\n",
    "    # EMAIL SETTINGS\n",
    "    MAIL_SERVER='smtp.gmail.com',\n",
    "    MAIL_PORT=587,\n",
    "    MAIL_USE_TLS=True,\n",
    "    MAIL_USE_SSL=False,\n",
    "    MAIL_USERNAME=mail_user_name,\n",
    "    MAIL_PASSWORD=mail_password,\n",
    "    MAIL_DEBUG=True\n",
    ")\n",
    "mail = Mail(app)\n",
    "\n",
    "\n",
    "@app.route(\"/check\")\n",
    "def send():\n",
    "    msg = Message(\"Hi! Welcome to Flask Mail!\", sender=mail_user_name, recipients=[sender_mail, sender_trishala_mail])\n",
    "    msg.body = \"Maate mera pranam accept kare Maa, Galti ko maaf kare...\"\n",
    "    mail.send(msg)\n",
    "    print(\"Mail sent\")\n",
    "    # return \"Please check you email,Sent\"\n",
    "    return render_template(\"send_mail.html\")\n",
    "\n",
    "\n",
    "@app.route(\"/\")\n",
    "def hello():\n",
    "    return \"Hello World!\"\n",
    "\n",
    "if __name__ == '__main__':\n",
    "    from werkzeug.serving import run_simple\n",
    "    run_simple('localhost', 9000, app)"
   ]
  },
  {
   "cell_type": "code",
   "execution_count": null,
   "metadata": {},
   "outputs": [],
   "source": []
  },
  {
   "cell_type": "code",
   "execution_count": null,
   "metadata": {},
   "outputs": [],
   "source": []
  }
 ],
 "metadata": {
  "kernelspec": {
   "display_name": "Python 3",
   "language": "python",
   "name": "python3"
  },
  "language_info": {
   "codemirror_mode": {
    "name": "ipython",
    "version": 3
   },
   "file_extension": ".py",
   "mimetype": "text/x-python",
   "name": "python",
   "nbconvert_exporter": "python",
   "pygments_lexer": "ipython3",
   "version": "3.7.6"
  }
 },
 "nbformat": 4,
 "nbformat_minor": 4
}
